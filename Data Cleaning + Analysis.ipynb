{
 "cells": [
  {
   "cell_type": "code",
   "execution_count": 107,
   "metadata": {},
   "outputs": [],
   "source": [
    "import pandas as pd\n",
    "import matplotlib.pyplot as plt\n",
    "import numpy as np\n",
    "import seaborn as sns\n",
    "import datetime as datetime"
   ]
  },
  {
   "cell_type": "markdown",
   "metadata": {},
   "source": [
    "## Data Cleaning + Wrangling"
   ]
  },
  {
   "cell_type": "code",
   "execution_count": 3,
   "metadata": {},
   "outputs": [],
   "source": [
    "towerseasons = pd.read_csv('tower_seasons_2019-11-21.csv', parse_dates=['max_canopy_date'])\n",
    "towerweekly = pd.read_csv('tower_weekly_2019-11-22.csv', parse_dates=['date'])\n",
    "towers = pd.read_csv('towers_2019-11-21.csv', parse_dates = ['installed_at'])"
   ]
  },
  {
   "cell_type": "code",
   "execution_count": 4,
   "metadata": {},
   "outputs": [],
   "source": [
    "# Drop NAs\n",
    "towerseasons_clean = towerseasons.dropna()\n",
    "towerweekly_clean = towerweekly.dropna().copy()\n",
    "towers_clean = towers.dropna()"
   ]
  },
  {
   "cell_type": "code",
   "execution_count": 5,
   "metadata": {},
   "outputs": [
    {
     "data": {
      "text/html": [
       "<div>\n",
       "<style scoped>\n",
       "    .dataframe tbody tr th:only-of-type {\n",
       "        vertical-align: middle;\n",
       "    }\n",
       "\n",
       "    .dataframe tbody tr th {\n",
       "        vertical-align: top;\n",
       "    }\n",
       "\n",
       "    .dataframe thead th {\n",
       "        text-align: right;\n",
       "    }\n",
       "</style>\n",
       "<table border=\"1\" class=\"dataframe\">\n",
       "  <thead>\n",
       "    <tr style=\"text-align: right;\">\n",
       "      <th></th>\n",
       "      <th>tower_id</th>\n",
       "      <th>crop</th>\n",
       "      <th>metacrop</th>\n",
       "      <th>betweenrowft</th>\n",
       "      <th>slope</th>\n",
       "      <th>aspect</th>\n",
       "      <th>region</th>\n",
       "      <th>subregion</th>\n",
       "      <th>installed_at</th>\n",
       "      <th>young_plant</th>\n",
       "      <th>trellis_type</th>\n",
       "    </tr>\n",
       "  </thead>\n",
       "  <tbody>\n",
       "    <tr>\n",
       "      <th>0</th>\n",
       "      <td>4068</td>\n",
       "      <td>grape</td>\n",
       "      <td>vine</td>\n",
       "      <td>5.0</td>\n",
       "      <td>4</td>\n",
       "      <td>85</td>\n",
       "      <td>NCoast</td>\n",
       "      <td>napa</td>\n",
       "      <td>2019-04-03 18:42:35</td>\n",
       "      <td>True</td>\n",
       "      <td>vsp</td>\n",
       "    </tr>\n",
       "  </tbody>\n",
       "</table>\n",
       "</div>"
      ],
      "text/plain": [
       "   tower_id   crop metacrop  betweenrowft  slope  aspect  region subregion  \\\n",
       "0      4068  grape     vine           5.0      4      85  NCoast      napa   \n",
       "\n",
       "         installed_at young_plant trellis_type  \n",
       "0 2019-04-03 18:42:35        True          vsp  "
      ]
     },
     "execution_count": 5,
     "metadata": {},
     "output_type": "execute_result"
    }
   ],
   "source": [
    "towers_clean.head(1)"
   ]
  },
  {
   "cell_type": "code",
   "execution_count": 6,
   "metadata": {},
   "outputs": [
    {
     "data": {
      "text/html": [
       "<div>\n",
       "<style scoped>\n",
       "    .dataframe tbody tr th:only-of-type {\n",
       "        vertical-align: middle;\n",
       "    }\n",
       "\n",
       "    .dataframe tbody tr th {\n",
       "        vertical-align: top;\n",
       "    }\n",
       "\n",
       "    .dataframe thead th {\n",
       "        text-align: right;\n",
       "    }\n",
       "</style>\n",
       "<table border=\"1\" class=\"dataframe\">\n",
       "  <thead>\n",
       "    <tr style=\"text-align: right;\">\n",
       "      <th></th>\n",
       "      <th>tower_id</th>\n",
       "      <th>year</th>\n",
       "      <th>actual_max_canopy</th>\n",
       "      <th>max_canopy_date</th>\n",
       "    </tr>\n",
       "  </thead>\n",
       "  <tbody>\n",
       "    <tr>\n",
       "      <th>2</th>\n",
       "      <td>3512</td>\n",
       "      <td>2019</td>\n",
       "      <td>0.458826</td>\n",
       "      <td>2019-07-08</td>\n",
       "    </tr>\n",
       "    <tr>\n",
       "      <th>13</th>\n",
       "      <td>825</td>\n",
       "      <td>2019</td>\n",
       "      <td>0.659543</td>\n",
       "      <td>2019-07-01</td>\n",
       "    </tr>\n",
       "  </tbody>\n",
       "</table>\n",
       "</div>"
      ],
      "text/plain": [
       "    tower_id  year  actual_max_canopy max_canopy_date\n",
       "2       3512  2019           0.458826      2019-07-08\n",
       "13       825  2019           0.659543      2019-07-01"
      ]
     },
     "execution_count": 6,
     "metadata": {},
     "output_type": "execute_result"
    }
   ],
   "source": [
    "towerseasons_clean.head(2)"
   ]
  },
  {
   "cell_type": "code",
   "execution_count": 7,
   "metadata": {},
   "outputs": [
    {
     "data": {
      "text/html": [
       "<div>\n",
       "<style scoped>\n",
       "    .dataframe tbody tr th:only-of-type {\n",
       "        vertical-align: middle;\n",
       "    }\n",
       "\n",
       "    .dataframe tbody tr th {\n",
       "        vertical-align: top;\n",
       "    }\n",
       "\n",
       "    .dataframe thead th {\n",
       "        text-align: right;\n",
       "    }\n",
       "</style>\n",
       "<table border=\"1\" class=\"dataframe\">\n",
       "  <thead>\n",
       "    <tr style=\"text-align: right;\">\n",
       "      <th></th>\n",
       "      <th>tower_id</th>\n",
       "      <th>date</th>\n",
       "      <th>irrigation_mm</th>\n",
       "      <th>actual_precip_mm</th>\n",
       "      <th>pri</th>\n",
       "      <th>year</th>\n",
       "    </tr>\n",
       "  </thead>\n",
       "  <tbody>\n",
       "    <tr>\n",
       "      <th>0</th>\n",
       "      <td>10</td>\n",
       "      <td>2019-01-07</td>\n",
       "      <td>0.0</td>\n",
       "      <td>14.204270</td>\n",
       "      <td>1.183220</td>\n",
       "      <td>2019</td>\n",
       "    </tr>\n",
       "    <tr>\n",
       "      <th>1</th>\n",
       "      <td>10</td>\n",
       "      <td>2019-01-14</td>\n",
       "      <td>0.0</td>\n",
       "      <td>85.758867</td>\n",
       "      <td>1.158736</td>\n",
       "      <td>2019</td>\n",
       "    </tr>\n",
       "    <tr>\n",
       "      <th>2</th>\n",
       "      <td>10</td>\n",
       "      <td>2019-01-21</td>\n",
       "      <td>0.0</td>\n",
       "      <td>0.000000</td>\n",
       "      <td>1.063871</td>\n",
       "      <td>2019</td>\n",
       "    </tr>\n",
       "    <tr>\n",
       "      <th>3</th>\n",
       "      <td>10</td>\n",
       "      <td>2019-01-28</td>\n",
       "      <td>0.0</td>\n",
       "      <td>43.022252</td>\n",
       "      <td>1.088352</td>\n",
       "      <td>2019</td>\n",
       "    </tr>\n",
       "    <tr>\n",
       "      <th>4</th>\n",
       "      <td>10</td>\n",
       "      <td>2019-02-04</td>\n",
       "      <td>0.0</td>\n",
       "      <td>19.813417</td>\n",
       "      <td>1.166881</td>\n",
       "      <td>2019</td>\n",
       "    </tr>\n",
       "  </tbody>\n",
       "</table>\n",
       "</div>"
      ],
      "text/plain": [
       "   tower_id       date  irrigation_mm  actual_precip_mm       pri  year\n",
       "0        10 2019-01-07            0.0         14.204270  1.183220  2019\n",
       "1        10 2019-01-14            0.0         85.758867  1.158736  2019\n",
       "2        10 2019-01-21            0.0          0.000000  1.063871  2019\n",
       "3        10 2019-01-28            0.0         43.022252  1.088352  2019\n",
       "4        10 2019-02-04            0.0         19.813417  1.166881  2019"
      ]
     },
     "execution_count": 7,
     "metadata": {},
     "output_type": "execute_result"
    }
   ],
   "source": [
    "# Convert year to datetime\n",
    "towerweekly_clean['year'] = pd.DatetimeIndex(towerweekly_clean['date']).year\n",
    "towerweekly_clean.head()"
   ]
  },
  {
   "cell_type": "code",
   "execution_count": 8,
   "metadata": {},
   "outputs": [],
   "source": [
    "## Identifying PRI and max canopy values that don't match and filtering them out. Major cleaning step"
   ]
  },
  {
   "cell_type": "code",
   "execution_count": 9,
   "metadata": {},
   "outputs": [],
   "source": [
    "# Step 1 - Narrow down to columns of interest\n",
    "towerweekly_group_pri_clean= towerweekly_clean[['year', 'tower_id', 'pri']]\n",
    "# towerweekly_group_pri_clean.head()"
   ]
  },
  {
   "cell_type": "code",
   "execution_count": 10,
   "metadata": {},
   "outputs": [],
   "source": [
    "# Step 2 - Merge previous dataframe with tower_seasons \n",
    "tower_pri_comb = towerseasons_clean.merge(towerweekly_group_pri_clean, on =['tower_id', 'year'])\n",
    "# tower_pri_comb.head()"
   ]
  },
  {
   "cell_type": "code",
   "execution_count": 11,
   "metadata": {},
   "outputs": [],
   "source": [
    "# Step 3 - Create a new column 'different' which calculates difference between max canopy and PRI\n",
    "# Remember we want values that are NOT different aka the difference should equal 0 \n",
    "tower_pri_comb['different'] = tower_pri_comb.actual_max_canopy - tower_pri_comb.pri\n",
    "# tower_pri_comb.head()"
   ]
  },
  {
   "cell_type": "code",
   "execution_count": 12,
   "metadata": {},
   "outputs": [
    {
     "data": {
      "text/plain": [
       "31345"
      ]
     },
     "execution_count": 12,
     "metadata": {},
     "output_type": "execute_result"
    }
   ],
   "source": [
    "# Step 5 - How many cases did NOT equal 0?\n",
    "len(tower_pri_comb[tower_pri_comb['different'] != 0 ])"
   ]
  },
  {
   "cell_type": "code",
   "execution_count": 13,
   "metadata": {},
   "outputs": [
    {
     "data": {
      "text/plain": [
       "594"
      ]
     },
     "execution_count": 13,
     "metadata": {},
     "output_type": "execute_result"
    }
   ],
   "source": [
    "# Step 6 - More importantly, how many cases did equal 0? Almost 600, which is about what we expected.\n",
    "len(tower_pri_comb[tower_pri_comb['different'] == 0 ])"
   ]
  },
  {
   "cell_type": "code",
   "execution_count": 14,
   "metadata": {},
   "outputs": [
    {
     "data": {
      "text/html": [
       "<div>\n",
       "<style scoped>\n",
       "    .dataframe tbody tr th:only-of-type {\n",
       "        vertical-align: middle;\n",
       "    }\n",
       "\n",
       "    .dataframe tbody tr th {\n",
       "        vertical-align: top;\n",
       "    }\n",
       "\n",
       "    .dataframe thead th {\n",
       "        text-align: right;\n",
       "    }\n",
       "</style>\n",
       "<table border=\"1\" class=\"dataframe\">\n",
       "  <thead>\n",
       "    <tr style=\"text-align: right;\">\n",
       "      <th></th>\n",
       "      <th>tower_id</th>\n",
       "      <th>year</th>\n",
       "      <th>actual_max_canopy</th>\n",
       "      <th>max_canopy_date</th>\n",
       "      <th>pri</th>\n",
       "      <th>different</th>\n",
       "    </tr>\n",
       "  </thead>\n",
       "  <tbody>\n",
       "    <tr>\n",
       "      <th>26</th>\n",
       "      <td>3512</td>\n",
       "      <td>2019</td>\n",
       "      <td>0.458826</td>\n",
       "      <td>2019-07-08</td>\n",
       "      <td>0.458826</td>\n",
       "      <td>0.0</td>\n",
       "    </tr>\n",
       "    <tr>\n",
       "      <th>89</th>\n",
       "      <td>2048</td>\n",
       "      <td>2019</td>\n",
       "      <td>0.660164</td>\n",
       "      <td>2019-06-17</td>\n",
       "      <td>0.660164</td>\n",
       "      <td>0.0</td>\n",
       "    </tr>\n",
       "    <tr>\n",
       "      <th>187</th>\n",
       "      <td>832</td>\n",
       "      <td>2019</td>\n",
       "      <td>0.515444</td>\n",
       "      <td>2019-07-08</td>\n",
       "      <td>0.515444</td>\n",
       "      <td>0.0</td>\n",
       "    </tr>\n",
       "    <tr>\n",
       "      <th>205</th>\n",
       "      <td>4230</td>\n",
       "      <td>2019</td>\n",
       "      <td>0.580303</td>\n",
       "      <td>2019-07-08</td>\n",
       "      <td>0.580303</td>\n",
       "      <td>0.0</td>\n",
       "    </tr>\n",
       "    <tr>\n",
       "      <th>319</th>\n",
       "      <td>2305</td>\n",
       "      <td>2019</td>\n",
       "      <td>0.701330</td>\n",
       "      <td>2019-06-10</td>\n",
       "      <td>0.701330</td>\n",
       "      <td>0.0</td>\n",
       "    </tr>\n",
       "  </tbody>\n",
       "</table>\n",
       "</div>"
      ],
      "text/plain": [
       "     tower_id  year  actual_max_canopy max_canopy_date       pri  different\n",
       "26       3512  2019           0.458826      2019-07-08  0.458826        0.0\n",
       "89       2048  2019           0.660164      2019-06-17  0.660164        0.0\n",
       "187       832  2019           0.515444      2019-07-08  0.515444        0.0\n",
       "205      4230  2019           0.580303      2019-07-08  0.580303        0.0\n",
       "319      2305  2019           0.701330      2019-06-10  0.701330        0.0"
      ]
     },
     "execution_count": 14,
     "metadata": {},
     "output_type": "execute_result"
    }
   ],
   "source": [
    "# Step 7 - This is your new dataframe \n",
    "trimmed_tower_weekly = tower_pri_comb[tower_pri_comb['different'] == 0 ].copy()\n",
    "trimmed_tower_weekly.head()"
   ]
  },
  {
   "cell_type": "code",
   "execution_count": 15,
   "metadata": {},
   "outputs": [
    {
     "data": {
      "text/plain": [
       "594"
      ]
     },
     "execution_count": 15,
     "metadata": {},
     "output_type": "execute_result"
    }
   ],
   "source": [
    "# Step 8 - Do the same exact thing but add the other variables back in.\n",
    "# Not deleting previous one because of paranoia and fear of losing it.\n",
    "towerweekly_group_pri_clean_complete = towerweekly_clean[['year', 'tower_id', 'pri', 'irrigation_mm', 'actual_precip_mm', 'date']]\n",
    "tower_pri_comb_complete = towerseasons_clean.merge(towerweekly_group_pri_clean_complete, on =['tower_id', 'year'])\n",
    "tower_pri_comb_complete['different'] = tower_pri_comb_complete.actual_max_canopy - tower_pri_comb_complete.pri\n",
    "len(tower_pri_comb_complete[tower_pri_comb_complete['different'] != 0 ])\n",
    "len(tower_pri_comb_complete[tower_pri_comb_complete['different'] == 0 ])\n",
    "trimmed_tower_weekly_complete = tower_pri_comb_complete[tower_pri_comb_complete['different'] == 0 ].copy()\n",
    "trimmed_tower_weekly.head()\n",
    "len(trimmed_tower_weekly)"
   ]
  },
  {
   "cell_type": "code",
   "execution_count": 16,
   "metadata": {},
   "outputs": [
    {
     "data": {
      "text/html": [
       "<div>\n",
       "<style scoped>\n",
       "    .dataframe tbody tr th:only-of-type {\n",
       "        vertical-align: middle;\n",
       "    }\n",
       "\n",
       "    .dataframe tbody tr th {\n",
       "        vertical-align: top;\n",
       "    }\n",
       "\n",
       "    .dataframe thead th {\n",
       "        text-align: right;\n",
       "    }\n",
       "</style>\n",
       "<table border=\"1\" class=\"dataframe\">\n",
       "  <thead>\n",
       "    <tr style=\"text-align: right;\">\n",
       "      <th></th>\n",
       "      <th></th>\n",
       "      <th>actual_max_canopy</th>\n",
       "      <th>pri</th>\n",
       "      <th>different</th>\n",
       "    </tr>\n",
       "    <tr>\n",
       "      <th>year</th>\n",
       "      <th>tower_id</th>\n",
       "      <th></th>\n",
       "      <th></th>\n",
       "      <th></th>\n",
       "    </tr>\n",
       "  </thead>\n",
       "  <tbody>\n",
       "    <tr>\n",
       "      <th rowspan=\"5\" valign=\"top\">2019</th>\n",
       "      <th>10</th>\n",
       "      <td>0.500498</td>\n",
       "      <td>0.500498</td>\n",
       "      <td>0.0</td>\n",
       "    </tr>\n",
       "    <tr>\n",
       "      <th>18</th>\n",
       "      <td>0.768882</td>\n",
       "      <td>0.768882</td>\n",
       "      <td>0.0</td>\n",
       "    </tr>\n",
       "    <tr>\n",
       "      <th>20</th>\n",
       "      <td>0.813847</td>\n",
       "      <td>0.813847</td>\n",
       "      <td>0.0</td>\n",
       "    </tr>\n",
       "    <tr>\n",
       "      <th>21</th>\n",
       "      <td>0.559340</td>\n",
       "      <td>0.559340</td>\n",
       "      <td>0.0</td>\n",
       "    </tr>\n",
       "    <tr>\n",
       "      <th>27</th>\n",
       "      <td>0.693847</td>\n",
       "      <td>0.693847</td>\n",
       "      <td>0.0</td>\n",
       "    </tr>\n",
       "  </tbody>\n",
       "</table>\n",
       "</div>"
      ],
      "text/plain": [
       "               actual_max_canopy       pri  different\n",
       "year tower_id                                        \n",
       "2019 10                 0.500498  0.500498        0.0\n",
       "     18                 0.768882  0.768882        0.0\n",
       "     20                 0.813847  0.813847        0.0\n",
       "     21                 0.559340  0.559340        0.0\n",
       "     27                 0.693847  0.693847        0.0"
      ]
     },
     "execution_count": 16,
     "metadata": {},
     "output_type": "execute_result"
    }
   ],
   "source": [
    "# Groupby statement for relevant stats\n",
    "towerweekly_group = trimmed_tower_weekly.groupby(['year', 'tower_id']).mean()\n",
    "towerweekly_group.head()"
   ]
  },
  {
   "cell_type": "code",
   "execution_count": 17,
   "metadata": {},
   "outputs": [],
   "source": [
    "# Lets merge our data to create one dataframe"
   ]
  },
  {
   "cell_type": "code",
   "execution_count": 18,
   "metadata": {},
   "outputs": [
    {
     "name": "stdout",
     "output_type": "stream",
     "text": [
      "Towers dimensions: (594, 9)\n",
      "Towers Weekly: (4361, 4)\n",
      "Towers Seasonal: (1242, 11)\n"
     ]
    }
   ],
   "source": [
    "print(\"Towers dimensions: {}\".format(trimmed_tower_weekly_complete.shape))\n",
    "print(\"Towers Weekly: {}\".format(towerseasons_clean.shape))\n",
    "print(\"Towers Seasonal: {}\".format(towers_clean.shape))"
   ]
  },
  {
   "cell_type": "code",
   "execution_count": 19,
   "metadata": {},
   "outputs": [
    {
     "data": {
      "text/html": [
       "<div>\n",
       "<style scoped>\n",
       "    .dataframe tbody tr th:only-of-type {\n",
       "        vertical-align: middle;\n",
       "    }\n",
       "\n",
       "    .dataframe tbody tr th {\n",
       "        vertical-align: top;\n",
       "    }\n",
       "\n",
       "    .dataframe thead th {\n",
       "        text-align: right;\n",
       "    }\n",
       "</style>\n",
       "<table border=\"1\" class=\"dataframe\">\n",
       "  <thead>\n",
       "    <tr style=\"text-align: right;\">\n",
       "      <th></th>\n",
       "      <th>tower_id</th>\n",
       "      <th>year</th>\n",
       "      <th>actual_max_canopy</th>\n",
       "      <th>max_canopy_date</th>\n",
       "      <th>pri</th>\n",
       "      <th>irrigation_mm</th>\n",
       "      <th>actual_precip_mm</th>\n",
       "      <th>date</th>\n",
       "      <th>different</th>\n",
       "    </tr>\n",
       "  </thead>\n",
       "  <tbody>\n",
       "    <tr>\n",
       "      <th>26</th>\n",
       "      <td>3512</td>\n",
       "      <td>2019</td>\n",
       "      <td>0.458826</td>\n",
       "      <td>2019-07-08</td>\n",
       "      <td>0.458826</td>\n",
       "      <td>0.000000</td>\n",
       "      <td>0.0</td>\n",
       "      <td>2019-07-08</td>\n",
       "      <td>0.0</td>\n",
       "    </tr>\n",
       "    <tr>\n",
       "      <th>89</th>\n",
       "      <td>2048</td>\n",
       "      <td>2019</td>\n",
       "      <td>0.660164</td>\n",
       "      <td>2019-06-17</td>\n",
       "      <td>0.660164</td>\n",
       "      <td>2.020265</td>\n",
       "      <td>0.0</td>\n",
       "      <td>2019-06-17</td>\n",
       "      <td>0.0</td>\n",
       "    </tr>\n",
       "  </tbody>\n",
       "</table>\n",
       "</div>"
      ],
      "text/plain": [
       "    tower_id  year  actual_max_canopy max_canopy_date       pri  \\\n",
       "26      3512  2019           0.458826      2019-07-08  0.458826   \n",
       "89      2048  2019           0.660164      2019-06-17  0.660164   \n",
       "\n",
       "    irrigation_mm  actual_precip_mm       date  different  \n",
       "26       0.000000               0.0 2019-07-08        0.0  \n",
       "89       2.020265               0.0 2019-06-17        0.0  "
      ]
     },
     "execution_count": 19,
     "metadata": {},
     "output_type": "execute_result"
    }
   ],
   "source": [
    "trimmed_tower_weekly_complete.head(2)"
   ]
  },
  {
   "cell_type": "code",
   "execution_count": 20,
   "metadata": {},
   "outputs": [
    {
     "name": "stdout",
     "output_type": "stream",
     "text": [
      "Towers Seasonal: (377, 19)\n"
     ]
    }
   ],
   "source": [
    "# Merge previous table with towers on tower_id\n",
    "# Is a fairly small data frame. Something to consider. \n",
    "final_table = pd.merge(trimmed_tower_weekly_complete, towers_clean, on = 'tower_id')\n",
    "print(\"Towers Seasonal: {}\".format(final_table.shape))"
   ]
  },
  {
   "cell_type": "markdown",
   "metadata": {},
   "source": [
    "## Analysis Method 1:"
   ]
  },
  {
   "cell_type": "markdown",
   "metadata": {},
   "source": [
    "### Possibility 1: Take final_table dataset, convert max_canopy_date to day in year (0-364) and then perform a regression with other features to predict the day of year. Convert this number back to a date. "
   ]
  },
  {
   "cell_type": "code",
   "execution_count": 21,
   "metadata": {},
   "outputs": [
    {
     "data": {
      "text/html": [
       "<div>\n",
       "<style scoped>\n",
       "    .dataframe tbody tr th:only-of-type {\n",
       "        vertical-align: middle;\n",
       "    }\n",
       "\n",
       "    .dataframe tbody tr th {\n",
       "        vertical-align: top;\n",
       "    }\n",
       "\n",
       "    .dataframe thead th {\n",
       "        text-align: right;\n",
       "    }\n",
       "</style>\n",
       "<table border=\"1\" class=\"dataframe\">\n",
       "  <thead>\n",
       "    <tr style=\"text-align: right;\">\n",
       "      <th></th>\n",
       "      <th>tower_id</th>\n",
       "      <th>year</th>\n",
       "      <th>actual_max_canopy</th>\n",
       "      <th>max_canopy_date</th>\n",
       "      <th>pri</th>\n",
       "      <th>irrigation_mm</th>\n",
       "      <th>actual_precip_mm</th>\n",
       "      <th>date</th>\n",
       "      <th>different</th>\n",
       "      <th>crop</th>\n",
       "      <th>metacrop</th>\n",
       "      <th>betweenrowft</th>\n",
       "      <th>slope</th>\n",
       "      <th>aspect</th>\n",
       "      <th>region</th>\n",
       "      <th>subregion</th>\n",
       "      <th>installed_at</th>\n",
       "      <th>young_plant</th>\n",
       "      <th>trellis_type</th>\n",
       "      <th>dayofyear</th>\n",
       "    </tr>\n",
       "  </thead>\n",
       "  <tbody>\n",
       "    <tr>\n",
       "      <th>0</th>\n",
       "      <td>3512</td>\n",
       "      <td>2019</td>\n",
       "      <td>0.458826</td>\n",
       "      <td>2019-07-08</td>\n",
       "      <td>0.458826</td>\n",
       "      <td>0.000000</td>\n",
       "      <td>0.0</td>\n",
       "      <td>2019-07-08</td>\n",
       "      <td>0.0</td>\n",
       "      <td>grape</td>\n",
       "      <td>vine</td>\n",
       "      <td>7.0</td>\n",
       "      <td>2</td>\n",
       "      <td>198</td>\n",
       "      <td>NCoast</td>\n",
       "      <td>carneros</td>\n",
       "      <td>2018-06-07 22:24:00</td>\n",
       "      <td>False</td>\n",
       "      <td>quad</td>\n",
       "      <td>189</td>\n",
       "    </tr>\n",
       "    <tr>\n",
       "      <th>1</th>\n",
       "      <td>2048</td>\n",
       "      <td>2019</td>\n",
       "      <td>0.660164</td>\n",
       "      <td>2019-06-17</td>\n",
       "      <td>0.660164</td>\n",
       "      <td>2.020265</td>\n",
       "      <td>0.0</td>\n",
       "      <td>2019-06-17</td>\n",
       "      <td>0.0</td>\n",
       "      <td>grape</td>\n",
       "      <td>vine</td>\n",
       "      <td>8.0</td>\n",
       "      <td>1</td>\n",
       "      <td>206</td>\n",
       "      <td>CCoast</td>\n",
       "      <td>pasorobles</td>\n",
       "      <td>2017-03-09 19:09:41</td>\n",
       "      <td>True</td>\n",
       "      <td>vsp</td>\n",
       "      <td>168</td>\n",
       "    </tr>\n",
       "  </tbody>\n",
       "</table>\n",
       "</div>"
      ],
      "text/plain": [
       "   tower_id  year  actual_max_canopy max_canopy_date       pri  irrigation_mm  \\\n",
       "0      3512  2019           0.458826      2019-07-08  0.458826       0.000000   \n",
       "1      2048  2019           0.660164      2019-06-17  0.660164       2.020265   \n",
       "\n",
       "   actual_precip_mm       date  different   crop metacrop  betweenrowft  \\\n",
       "0               0.0 2019-07-08        0.0  grape     vine           7.0   \n",
       "1               0.0 2019-06-17        0.0  grape     vine           8.0   \n",
       "\n",
       "   slope  aspect  region   subregion        installed_at young_plant  \\\n",
       "0      2     198  NCoast    carneros 2018-06-07 22:24:00       False   \n",
       "1      1     206  CCoast  pasorobles 2017-03-09 19:09:41        True   \n",
       "\n",
       "  trellis_type  dayofyear  \n",
       "0         quad        189  \n",
       "1          vsp        168  "
      ]
     },
     "execution_count": 21,
     "metadata": {},
     "output_type": "execute_result"
    }
   ],
   "source": [
    "# Get day of year for date values\n",
    "final_table['dayofyear'] = final_table['max_canopy_date'].dt.dayofyear\n",
    "final_table.head(2)"
   ]
  },
  {
   "cell_type": "code",
   "execution_count": 68,
   "metadata": {},
   "outputs": [
    {
     "data": {
      "image/png": "[encoded data removed]",
      "text/plain": [
       "<Figure size 720x360 with 1 Axes>"
      ]
     },
     "metadata": {
      "needs_background": "light"
     },
     "output_type": "display_data"
    }
   ],
   "source": [
    "# Regression analysis:\n",
    "plt.figure(figsize=(10,5))\n",
    "plt.tight_layout()\n",
    "sns.distplot(final_table['dayofyear'])\n",
    "plt.show()"
   ]
  },
  {
   "cell_type": "code",
   "execution_count": 23,
   "metadata": {},
   "outputs": [],
   "source": [
    "import pandas as pd  \n",
    "import numpy as np  \n",
    "import matplotlib.pyplot as plt  \n",
    "import seaborn as seabornInstance \n",
    "from sklearn.model_selection import train_test_split \n",
    "from sklearn.linear_model import LinearRegression\n",
    "from sklearn import metrics\n",
    "%matplotlib inline"
   ]
  },
  {
   "cell_type": "code",
   "execution_count": 24,
   "metadata": {},
   "outputs": [],
   "source": [
    "y = pd.DataFrame(final_table, columns= ['dayofyear'])\n",
    "y = y['dayofyear']\n",
    "\n",
    "# How can I add categorical data to this model?\n",
    "X = pd.DataFrame(final_table, columns = ['actual_max_canopy', 'irrigation_mm', 'actual_precip_mm',\n",
    "                                         'betweenrowft', 'slope', 'aspect'])"
   ]
  },
  {
   "cell_type": "code",
   "execution_count": 25,
   "metadata": {},
   "outputs": [],
   "source": [
    "X = pd.DataFrame(final_table, columns = ['actual_max_canopy','tower_id', 'crop', 'metacrop', 'region', 'subregion',\n",
    "                                         'irrigation_mm', 'actual_precip_mm',\n",
    "                                         'betweenrowft', 'slope', 'aspect'])\n",
    "\n",
    "# Get dummy variables for categorical data:\n",
    "X2 = pd.get_dummies(X, columns= ['crop', 'metacrop', 'region', 'subregion'])"
   ]
  },
  {
   "cell_type": "code",
   "execution_count": 26,
   "metadata": {},
   "outputs": [
    {
     "data": {
      "text/plain": [
       "LinearRegression(copy_X=True, fit_intercept=True, n_jobs=None, normalize=False)"
      ]
     },
     "execution_count": 26,
     "metadata": {},
     "output_type": "execute_result"
    }
   ],
   "source": [
    "regressor = LinearRegression()  \n",
    "regressor.fit(X2, y)"
   ]
  },
  {
   "cell_type": "code",
   "execution_count": 27,
   "metadata": {},
   "outputs": [
    {
     "name": "stdout",
     "output_type": "stream",
     "text": [
      "coefficient of determination: 0.24603196000344377\n"
     ]
    }
   ],
   "source": [
    "r_sq = regressor.score(X2, y)\n",
    "print('coefficient of determination:', r_sq)"
   ]
  },
  {
   "cell_type": "code",
   "execution_count": 28,
   "metadata": {},
   "outputs": [
    {
     "name": "stdout",
     "output_type": "stream",
     "text": [
      "136.6204350817715\n",
      "[ 7.36783416e+00  1.75744641e-03  1.46109317e-01 -6.98557955e+00\n",
      "  1.10363029e+00 -1.97473384e-01  4.57490261e-03  4.28074458e+00\n",
      " -9.04621715e+00  4.76547257e+00 -9.04621715e+00  9.04621715e+00\n",
      " -6.38528482e-01 -4.18182559e-01 -4.12331486e-01  1.46904253e+00\n",
      "  2.02384914e+01  1.85839211e+01 -2.42953690e+00 -8.07527959e-01\n",
      " -1.41013839e+01 -1.84844644e+00  3.84123684e+00 -5.64302875e+00\n",
      "  3.31748897e+00 -7.28734459e-02  2.55256480e+00 -1.60591122e+01\n",
      " -1.78835896e+01  8.29459060e+00  2.01720542e+00]\n"
     ]
    }
   ],
   "source": [
    "#To retrieve the intercept:\n",
    "print(regressor.intercept_)\n",
    "\n",
    "#For retrieving the slope:\n",
    "print(regressor.coef_)"
   ]
  },
  {
   "cell_type": "code",
   "execution_count": 29,
   "metadata": {},
   "outputs": [],
   "source": [
    "y_pred = regressor.predict(X2)"
   ]
  },
  {
   "cell_type": "code",
   "execution_count": 30,
   "metadata": {},
   "outputs": [
    {
     "data": {
      "text/html": [
       "<div>\n",
       "<style scoped>\n",
       "    .dataframe tbody tr th:only-of-type {\n",
       "        vertical-align: middle;\n",
       "    }\n",
       "\n",
       "    .dataframe tbody tr th {\n",
       "        vertical-align: top;\n",
       "    }\n",
       "\n",
       "    .dataframe thead th {\n",
       "        text-align: right;\n",
       "    }\n",
       "</style>\n",
       "<table border=\"1\" class=\"dataframe\">\n",
       "  <thead>\n",
       "    <tr style=\"text-align: right;\">\n",
       "      <th></th>\n",
       "      <th>Coefficient</th>\n",
       "    </tr>\n",
       "  </thead>\n",
       "  <tbody>\n",
       "    <tr>\n",
       "      <th>actual_max_canopy</th>\n",
       "      <td>7.367834</td>\n",
       "    </tr>\n",
       "    <tr>\n",
       "      <th>tower_id</th>\n",
       "      <td>0.001757</td>\n",
       "    </tr>\n",
       "    <tr>\n",
       "      <th>irrigation_mm</th>\n",
       "      <td>0.146109</td>\n",
       "    </tr>\n",
       "    <tr>\n",
       "      <th>actual_precip_mm</th>\n",
       "      <td>-6.985580</td>\n",
       "    </tr>\n",
       "    <tr>\n",
       "      <th>betweenrowft</th>\n",
       "      <td>1.103630</td>\n",
       "    </tr>\n",
       "    <tr>\n",
       "      <th>slope</th>\n",
       "      <td>-0.197473</td>\n",
       "    </tr>\n",
       "    <tr>\n",
       "      <th>aspect</th>\n",
       "      <td>0.004575</td>\n",
       "    </tr>\n",
       "    <tr>\n",
       "      <th>crop_grape</th>\n",
       "      <td>4.280745</td>\n",
       "    </tr>\n",
       "    <tr>\n",
       "      <th>crop_pistachio</th>\n",
       "      <td>-9.046217</td>\n",
       "    </tr>\n",
       "    <tr>\n",
       "      <th>crop_table_grape</th>\n",
       "      <td>4.765473</td>\n",
       "    </tr>\n",
       "    <tr>\n",
       "      <th>metacrop_tree</th>\n",
       "      <td>-9.046217</td>\n",
       "    </tr>\n",
       "    <tr>\n",
       "      <th>metacrop_vine</th>\n",
       "      <td>9.046217</td>\n",
       "    </tr>\n",
       "    <tr>\n",
       "      <th>region_CCoast</th>\n",
       "      <td>-0.638528</td>\n",
       "    </tr>\n",
       "    <tr>\n",
       "      <th>region_NCoast</th>\n",
       "      <td>-0.418183</td>\n",
       "    </tr>\n",
       "    <tr>\n",
       "      <th>region_SJV</th>\n",
       "      <td>-0.412331</td>\n",
       "    </tr>\n",
       "    <tr>\n",
       "      <th>region_SacValley</th>\n",
       "      <td>1.469043</td>\n",
       "    </tr>\n",
       "    <tr>\n",
       "      <th>subregion_carneros</th>\n",
       "      <td>20.238491</td>\n",
       "    </tr>\n",
       "    <tr>\n",
       "      <th>subregion_edna_valley</th>\n",
       "      <td>18.583921</td>\n",
       "    </tr>\n",
       "    <tr>\n",
       "      <th>subregion_esjv</th>\n",
       "      <td>-2.429537</td>\n",
       "    </tr>\n",
       "    <tr>\n",
       "      <th>subregion_lake</th>\n",
       "      <td>-0.807528</td>\n",
       "    </tr>\n",
       "    <tr>\n",
       "      <th>subregion_livermore</th>\n",
       "      <td>-14.101384</td>\n",
       "    </tr>\n",
       "    <tr>\n",
       "      <th>subregion_lodi</th>\n",
       "      <td>-1.848446</td>\n",
       "    </tr>\n",
       "    <tr>\n",
       "      <th>subregion_napa</th>\n",
       "      <td>3.841237</td>\n",
       "    </tr>\n",
       "    <tr>\n",
       "      <th>subregion_pasorobles</th>\n",
       "      <td>-5.643029</td>\n",
       "    </tr>\n",
       "    <tr>\n",
       "      <th>subregion_sacvalley</th>\n",
       "      <td>3.317489</td>\n",
       "    </tr>\n",
       "    <tr>\n",
       "      <th>subregion_salinasvalley</th>\n",
       "      <td>-0.072873</td>\n",
       "    </tr>\n",
       "    <tr>\n",
       "      <th>subregion_santabarbara</th>\n",
       "      <td>2.552565</td>\n",
       "    </tr>\n",
       "    <tr>\n",
       "      <th>subregion_santaclara</th>\n",
       "      <td>-16.059112</td>\n",
       "    </tr>\n",
       "    <tr>\n",
       "      <th>subregion_santacruz</th>\n",
       "      <td>-17.883590</td>\n",
       "    </tr>\n",
       "    <tr>\n",
       "      <th>subregion_sonoma</th>\n",
       "      <td>8.294591</td>\n",
       "    </tr>\n",
       "    <tr>\n",
       "      <th>subregion_wsjv</th>\n",
       "      <td>2.017205</td>\n",
       "    </tr>\n",
       "  </tbody>\n",
       "</table>\n",
       "</div>"
      ],
      "text/plain": [
       "                         Coefficient\n",
       "actual_max_canopy           7.367834\n",
       "tower_id                    0.001757\n",
       "irrigation_mm               0.146109\n",
       "actual_precip_mm           -6.985580\n",
       "betweenrowft                1.103630\n",
       "slope                      -0.197473\n",
       "aspect                      0.004575\n",
       "crop_grape                  4.280745\n",
       "crop_pistachio             -9.046217\n",
       "crop_table_grape            4.765473\n",
       "metacrop_tree              -9.046217\n",
       "metacrop_vine               9.046217\n",
       "region_CCoast              -0.638528\n",
       "region_NCoast              -0.418183\n",
       "region_SJV                 -0.412331\n",
       "region_SacValley            1.469043\n",
       "subregion_carneros         20.238491\n",
       "subregion_edna_valley      18.583921\n",
       "subregion_esjv             -2.429537\n",
       "subregion_lake             -0.807528\n",
       "subregion_livermore       -14.101384\n",
       "subregion_lodi             -1.848446\n",
       "subregion_napa              3.841237\n",
       "subregion_pasorobles       -5.643029\n",
       "subregion_sacvalley         3.317489\n",
       "subregion_salinasvalley    -0.072873\n",
       "subregion_santabarbara      2.552565\n",
       "subregion_santaclara      -16.059112\n",
       "subregion_santacruz       -17.883590\n",
       "subregion_sonoma            8.294591\n",
       "subregion_wsjv              2.017205"
      ]
     },
     "execution_count": 30,
     "metadata": {},
     "output_type": "execute_result"
    }
   ],
   "source": [
    "coeff_df = pd.DataFrame(regressor.coef_, X2.columns, columns=['Coefficient'])  \n",
    "coeff_df\n",
    "# For a unit increase in dayofyear aka one day we will see an increase in the actual max canopy and a decrease in\n",
    "# actual precipitation, irrigation and slope. "
   ]
  },
  {
   "cell_type": "code",
   "execution_count": 31,
   "metadata": {},
   "outputs": [
    {
     "data": {
      "text/html": [
       "<div>\n",
       "<style scoped>\n",
       "    .dataframe tbody tr th:only-of-type {\n",
       "        vertical-align: middle;\n",
       "    }\n",
       "\n",
       "    .dataframe tbody tr th {\n",
       "        vertical-align: top;\n",
       "    }\n",
       "\n",
       "    .dataframe thead th {\n",
       "        text-align: right;\n",
       "    }\n",
       "</style>\n",
       "<table border=\"1\" class=\"dataframe\">\n",
       "  <thead>\n",
       "    <tr style=\"text-align: right;\">\n",
       "      <th></th>\n",
       "      <th>Actual</th>\n",
       "      <th>Predicted</th>\n",
       "    </tr>\n",
       "  </thead>\n",
       "  <tbody>\n",
       "    <tr>\n",
       "      <th>0</th>\n",
       "      <td>189</td>\n",
       "      <td>187.556707</td>\n",
       "    </tr>\n",
       "    <tr>\n",
       "      <th>1</th>\n",
       "      <td>168</td>\n",
       "      <td>161.998244</td>\n",
       "    </tr>\n",
       "    <tr>\n",
       "      <th>2</th>\n",
       "      <td>189</td>\n",
       "      <td>184.330936</td>\n",
       "    </tr>\n",
       "    <tr>\n",
       "      <th>3</th>\n",
       "      <td>189</td>\n",
       "      <td>190.747808</td>\n",
       "    </tr>\n",
       "    <tr>\n",
       "      <th>4</th>\n",
       "      <td>161</td>\n",
       "      <td>163.648593</td>\n",
       "    </tr>\n",
       "    <tr>\n",
       "      <th>...</th>\n",
       "      <td>...</td>\n",
       "      <td>...</td>\n",
       "    </tr>\n",
       "    <tr>\n",
       "      <th>372</th>\n",
       "      <td>168</td>\n",
       "      <td>172.681677</td>\n",
       "    </tr>\n",
       "    <tr>\n",
       "      <th>373</th>\n",
       "      <td>161</td>\n",
       "      <td>173.864284</td>\n",
       "    </tr>\n",
       "    <tr>\n",
       "      <th>374</th>\n",
       "      <td>168</td>\n",
       "      <td>166.840322</td>\n",
       "    </tr>\n",
       "    <tr>\n",
       "      <th>375</th>\n",
       "      <td>175</td>\n",
       "      <td>168.177659</td>\n",
       "    </tr>\n",
       "    <tr>\n",
       "      <th>376</th>\n",
       "      <td>140</td>\n",
       "      <td>134.599317</td>\n",
       "    </tr>\n",
       "  </tbody>\n",
       "</table>\n",
       "<p>377 rows × 2 columns</p>\n",
       "</div>"
      ],
      "text/plain": [
       "     Actual   Predicted\n",
       "0       189  187.556707\n",
       "1       168  161.998244\n",
       "2       189  184.330936\n",
       "3       189  190.747808\n",
       "4       161  163.648593\n",
       "..      ...         ...\n",
       "372     168  172.681677\n",
       "373     161  173.864284\n",
       "374     168  166.840322\n",
       "375     175  168.177659\n",
       "376     140  134.599317\n",
       "\n",
       "[377 rows x 2 columns]"
      ]
     },
     "execution_count": 31,
     "metadata": {},
     "output_type": "execute_result"
    }
   ],
   "source": [
    "df = pd.DataFrame({'Actual': y, 'Predicted': y_pred})\n",
    "df"
   ]
  },
  {
   "cell_type": "code",
   "execution_count": 66,
   "metadata": {},
   "outputs": [
    {
     "data": {
      "image/png": "[encoded data removed]",
      "text/plain": [
       "<Figure size 720x360 with 1 Axes>"
      ]
     },
     "metadata": {
      "needs_background": "light"
     },
     "output_type": "display_data"
    }
   ],
   "source": [
    "df1 = df.head(50)\n",
    "df1.plot(kind='bar',figsize=(10,5))\n",
    "plt.grid(which='major', linestyle='-', linewidth='0.5', color='black')\n",
    "plt.grid(which='minor', linestyle=':', linewidth='0.5', color='black')\n",
    "plt.show()"
   ]
  },
  {
   "cell_type": "code",
   "execution_count": 33,
   "metadata": {},
   "outputs": [
    {
     "name": "stdout",
     "output_type": "stream",
     "text": [
      "Mean Absolute Error: 12.535737820820623\n",
      "Mean Squared Error: 269.11322914547395\n",
      "Root Mean Squared Error: 16.40467095511135\n"
     ]
    }
   ],
   "source": [
    "print('Mean Absolute Error:', metrics.mean_absolute_error(y, y_pred))  \n",
    "print('Mean Squared Error:', metrics.mean_squared_error(y, y_pred))  \n",
    "print('Root Mean Squared Error:', np.sqrt(metrics.mean_squared_error(y, y_pred)))"
   ]
  },
  {
   "cell_type": "code",
   "execution_count": null,
   "metadata": {},
   "outputs": [],
   "source": []
  },
  {
   "cell_type": "markdown",
   "metadata": {},
   "source": [
    "## Data Visualization"
   ]
  },
  {
   "cell_type": "code",
   "execution_count": 34,
   "metadata": {},
   "outputs": [],
   "source": [
    "## Violin Plot of Actual Max Canopy from towerseasons cleaned df"
   ]
  },
  {
   "cell_type": "code",
   "execution_count": 35,
   "metadata": {},
   "outputs": [
    {
     "data": {
      "text/plain": [
       "<matplotlib.axes._subplots.AxesSubplot at 0x1a19fcd128>"
      ]
     },
     "execution_count": 35,
     "metadata": {},
     "output_type": "execute_result"
    },
    {
     "data": {
      "image/png": "[encoded data removed]",
      "text/plain": [
       "<Figure size 432x288 with 1 Axes>"
      ]
     },
     "metadata": {
      "needs_background": "light"
     },
     "output_type": "display_data"
    }
   ],
   "source": [
    "sns.violinplot(x='region', y='actual_max_canopy', data=final_table)"
   ]
  },
  {
   "cell_type": "code",
   "execution_count": 36,
   "metadata": {},
   "outputs": [
    {
     "data": {
      "text/plain": [
       "Text(0, 0.5, 'Actual Max Canopy')"
      ]
     },
     "execution_count": 36,
     "metadata": {},
     "output_type": "execute_result"
    },
    {
     "data": {
      "image/png": "[encoded data removed]",
      "text/plain": [
       "<Figure size 432x288 with 1 Axes>"
      ]
     },
     "metadata": {
      "needs_background": "light"
     },
     "output_type": "display_data"
    }
   ],
   "source": [
    "sns.violinplot(x='year', y='actual_max_canopy', data=towerseasons_clean)\n",
    "plt.title('Violin plot of Actual Max Canopy by Year')\n",
    "plt.xlabel('Year')\n",
    "plt.ylabel('Actual Max Canopy')"
   ]
  },
  {
   "cell_type": "code",
   "execution_count": 37,
   "metadata": {},
   "outputs": [],
   "source": [
    "# Strip plot of Actual Max Canopy by Year"
   ]
  },
  {
   "cell_type": "code",
   "execution_count": 38,
   "metadata": {},
   "outputs": [
    {
     "data": {
      "text/plain": [
       "Text(0, 0.5, 'Actual Max Canopy')"
      ]
     },
     "execution_count": 38,
     "metadata": {},
     "output_type": "execute_result"
    },
    {
     "data": {
      "image/png": "[encoded data removed]",
      "text/plain": [
       "<Figure size 432x288 with 1 Axes>"
      ]
     },
     "metadata": {
      "needs_background": "light"
     },
     "output_type": "display_data"
    }
   ],
   "source": [
    "sns.stripplot(x='year', y='actual_max_canopy', data=towerseasons_clean, jitter=True)\n",
    "plt.title('Strip plot of Actual Max Canopy by Year')\n",
    "plt.xlabel('Year')\n",
    "plt.ylabel('Actual Max Canopy')"
   ]
  },
  {
   "cell_type": "code",
   "execution_count": 39,
   "metadata": {},
   "outputs": [],
   "source": [
    "## Violin Plot of Actual Max Canopy from towerseasons cleaned df using count data"
   ]
  },
  {
   "cell_type": "code",
   "execution_count": 40,
   "metadata": {},
   "outputs": [
    {
     "data": {
      "text/plain": [
       "Text(0, 0.5, 'Actual Max Canopy')"
      ]
     },
     "execution_count": 40,
     "metadata": {},
     "output_type": "execute_result"
    },
    {
     "data": {
      "image/png": "[encoded data removed]",
      "text/plain": [
       "<Figure size 432x288 with 1 Axes>"
      ]
     },
     "metadata": {
      "needs_background": "light"
     },
     "output_type": "display_data"
    }
   ],
   "source": [
    "sns.violinplot(x='year', y='actual_max_canopy', data=towerseasons_clean, scale='count')\n",
    "plt.title('Counts of Actual Max Canopy by Year')\n",
    "plt.xlabel('Year')\n",
    "plt.ylabel('Actual Max Canopy')\n",
    "# Shows number of observations "
   ]
  },
  {
   "cell_type": "code",
   "execution_count": 41,
   "metadata": {},
   "outputs": [
    {
     "data": {
      "text/plain": [
       "Text(0.5, 0, 'PRI')"
      ]
     },
     "execution_count": 41,
     "metadata": {},
     "output_type": "execute_result"
    },
    {
     "data": {
      "image/png": "[encoded data removed]",
      "text/plain": [
       "<Figure size 432x288 with 1 Axes>"
      ]
     },
     "metadata": {
      "needs_background": "light"
     },
     "output_type": "display_data"
    }
   ],
   "source": [
    "sns.violinplot(x=final_table['pri'])\n",
    "plt.title('Violin Plot for PRI values')\n",
    "plt.xlabel('PRI')"
   ]
  },
  {
   "cell_type": "code",
   "execution_count": 42,
   "metadata": {},
   "outputs": [
    {
     "data": {
      "text/html": [
       "<div>\n",
       "<style scoped>\n",
       "    .dataframe tbody tr th:only-of-type {\n",
       "        vertical-align: middle;\n",
       "    }\n",
       "\n",
       "    .dataframe tbody tr th {\n",
       "        vertical-align: top;\n",
       "    }\n",
       "\n",
       "    .dataframe thead th {\n",
       "        text-align: right;\n",
       "    }\n",
       "</style>\n",
       "<table border=\"1\" class=\"dataframe\">\n",
       "  <thead>\n",
       "    <tr style=\"text-align: right;\">\n",
       "      <th></th>\n",
       "      <th></th>\n",
       "      <th>actual_max_canopy</th>\n",
       "      <th>pri</th>\n",
       "      <th>different</th>\n",
       "    </tr>\n",
       "    <tr>\n",
       "      <th>year</th>\n",
       "      <th>tower_id</th>\n",
       "      <th></th>\n",
       "      <th></th>\n",
       "      <th></th>\n",
       "    </tr>\n",
       "  </thead>\n",
       "  <tbody>\n",
       "    <tr>\n",
       "      <th rowspan=\"5\" valign=\"top\">2019</th>\n",
       "      <th>10</th>\n",
       "      <td>0.500498</td>\n",
       "      <td>0.500498</td>\n",
       "      <td>0.0</td>\n",
       "    </tr>\n",
       "    <tr>\n",
       "      <th>18</th>\n",
       "      <td>0.768882</td>\n",
       "      <td>0.768882</td>\n",
       "      <td>0.0</td>\n",
       "    </tr>\n",
       "    <tr>\n",
       "      <th>20</th>\n",
       "      <td>0.813847</td>\n",
       "      <td>0.813847</td>\n",
       "      <td>0.0</td>\n",
       "    </tr>\n",
       "    <tr>\n",
       "      <th>21</th>\n",
       "      <td>0.559340</td>\n",
       "      <td>0.559340</td>\n",
       "      <td>0.0</td>\n",
       "    </tr>\n",
       "    <tr>\n",
       "      <th>27</th>\n",
       "      <td>0.693847</td>\n",
       "      <td>0.693847</td>\n",
       "      <td>0.0</td>\n",
       "    </tr>\n",
       "  </tbody>\n",
       "</table>\n",
       "</div>"
      ],
      "text/plain": [
       "               actual_max_canopy       pri  different\n",
       "year tower_id                                        \n",
       "2019 10                 0.500498  0.500498        0.0\n",
       "     18                 0.768882  0.768882        0.0\n",
       "     20                 0.813847  0.813847        0.0\n",
       "     21                 0.559340  0.559340        0.0\n",
       "     27                 0.693847  0.693847        0.0"
      ]
     },
     "execution_count": 42,
     "metadata": {},
     "output_type": "execute_result"
    }
   ],
   "source": [
    "# Groupby statement for relevant stats\n",
    "towerweekly_group = trimmed_tower_weekly.groupby(['year', 'tower_id']).mean()\n",
    "towerweekly_group.head(5)"
   ]
  },
  {
   "cell_type": "code",
   "execution_count": 43,
   "metadata": {},
   "outputs": [
    {
     "data": {
      "text/html": [
       "<div>\n",
       "<style scoped>\n",
       "    .dataframe tbody tr th:only-of-type {\n",
       "        vertical-align: middle;\n",
       "    }\n",
       "\n",
       "    .dataframe tbody tr th {\n",
       "        vertical-align: top;\n",
       "    }\n",
       "\n",
       "    .dataframe thead th {\n",
       "        text-align: right;\n",
       "    }\n",
       "</style>\n",
       "<table border=\"1\" class=\"dataframe\">\n",
       "  <thead>\n",
       "    <tr style=\"text-align: right;\">\n",
       "      <th></th>\n",
       "      <th>tower_id</th>\n",
       "      <th>date</th>\n",
       "      <th>irrigation_mm</th>\n",
       "      <th>actual_precip_mm</th>\n",
       "      <th>pri</th>\n",
       "      <th>year</th>\n",
       "    </tr>\n",
       "  </thead>\n",
       "  <tbody>\n",
       "    <tr>\n",
       "      <th>0</th>\n",
       "      <td>10</td>\n",
       "      <td>2019-01-07</td>\n",
       "      <td>0.0</td>\n",
       "      <td>14.204270</td>\n",
       "      <td>1.183220</td>\n",
       "      <td>2019</td>\n",
       "    </tr>\n",
       "    <tr>\n",
       "      <th>1</th>\n",
       "      <td>10</td>\n",
       "      <td>2019-01-14</td>\n",
       "      <td>0.0</td>\n",
       "      <td>85.758867</td>\n",
       "      <td>1.158736</td>\n",
       "      <td>2019</td>\n",
       "    </tr>\n",
       "    <tr>\n",
       "      <th>2</th>\n",
       "      <td>10</td>\n",
       "      <td>2019-01-21</td>\n",
       "      <td>0.0</td>\n",
       "      <td>0.000000</td>\n",
       "      <td>1.063871</td>\n",
       "      <td>2019</td>\n",
       "    </tr>\n",
       "    <tr>\n",
       "      <th>3</th>\n",
       "      <td>10</td>\n",
       "      <td>2019-01-28</td>\n",
       "      <td>0.0</td>\n",
       "      <td>43.022252</td>\n",
       "      <td>1.088352</td>\n",
       "      <td>2019</td>\n",
       "    </tr>\n",
       "    <tr>\n",
       "      <th>4</th>\n",
       "      <td>10</td>\n",
       "      <td>2019-02-04</td>\n",
       "      <td>0.0</td>\n",
       "      <td>19.813417</td>\n",
       "      <td>1.166881</td>\n",
       "      <td>2019</td>\n",
       "    </tr>\n",
       "  </tbody>\n",
       "</table>\n",
       "</div>"
      ],
      "text/plain": [
       "   tower_id       date  irrigation_mm  actual_precip_mm       pri  year\n",
       "0        10 2019-01-07            0.0         14.204270  1.183220  2019\n",
       "1        10 2019-01-14            0.0         85.758867  1.158736  2019\n",
       "2        10 2019-01-21            0.0          0.000000  1.063871  2019\n",
       "3        10 2019-01-28            0.0         43.022252  1.088352  2019\n",
       "4        10 2019-02-04            0.0         19.813417  1.166881  2019"
      ]
     },
     "execution_count": 43,
     "metadata": {},
     "output_type": "execute_result"
    }
   ],
   "source": [
    "towerweekly_clean.head()\n",
    "# How to compare each date for each tower because there are 1207 towers\n",
    "# Tough because there are so many towers and about 33 dates / tower.\n",
    "# Cleaned data just has 2019 due to missing values in other years.\n",
    "\n",
    "# Jan 21 meeting w Devin:\n",
    "# Groupby tower id, crop, pri, weekly dates\n",
    "# different forecast for each crop\n",
    "# Which dataset do we want to use for this?\n",
    "\n",
    "# Feb 4 \n",
    "# 3 forecasts grape, table grape and pistachio\n",
    "# 2 columns for each crop\n",
    "# week number of year as first column, average pri as second column across all years and towers.\n",
    "# tower weekly data set with crops. "
   ]
  },
  {
   "cell_type": "code",
   "execution_count": 44,
   "metadata": {},
   "outputs": [],
   "source": [
    "tower_dictionary = {i:j for h,i,j in final_table[['tower_id', 'crop']].itertuples()}"
   ]
  },
  {
   "cell_type": "code",
   "execution_count": 45,
   "metadata": {},
   "outputs": [
    {
     "data": {
      "text/plain": [
       "array(['grape', '', 'table_grape', 'pistachio'], dtype=object)"
      ]
     },
     "execution_count": 45,
     "metadata": {},
     "output_type": "execute_result"
    }
   ],
   "source": [
    "towerweekly_clean['crop'] = towerweekly_clean['tower_id'].apply(lambda x: tower_dictionary[x] if x in tower_dictionary else \"\")\n",
    "towerweekly_clean['crop'].unique()"
   ]
  },
  {
   "cell_type": "code",
   "execution_count": 118,
   "metadata": {},
   "outputs": [
    {
     "data": {
      "text/html": [
       "<div>\n",
       "<style scoped>\n",
       "    .dataframe tbody tr th:only-of-type {\n",
       "        vertical-align: middle;\n",
       "    }\n",
       "\n",
       "    .dataframe tbody tr th {\n",
       "        vertical-align: top;\n",
       "    }\n",
       "\n",
       "    .dataframe thead th {\n",
       "        text-align: right;\n",
       "    }\n",
       "</style>\n",
       "<table border=\"1\" class=\"dataframe\">\n",
       "  <thead>\n",
       "    <tr style=\"text-align: right;\">\n",
       "      <th></th>\n",
       "      <th>tower_id</th>\n",
       "      <th>date</th>\n",
       "      <th>irrigation_mm</th>\n",
       "      <th>actual_precip_mm</th>\n",
       "      <th>pri</th>\n",
       "      <th>year</th>\n",
       "      <th>crop</th>\n",
       "      <th>week</th>\n",
       "    </tr>\n",
       "  </thead>\n",
       "  <tbody>\n",
       "    <tr>\n",
       "      <th>0</th>\n",
       "      <td>10</td>\n",
       "      <td>2019-01-07</td>\n",
       "      <td>0.0</td>\n",
       "      <td>14.204270</td>\n",
       "      <td>1.183220</td>\n",
       "      <td>2019</td>\n",
       "      <td>grape</td>\n",
       "      <td>2</td>\n",
       "    </tr>\n",
       "    <tr>\n",
       "      <th>1</th>\n",
       "      <td>10</td>\n",
       "      <td>2019-01-14</td>\n",
       "      <td>0.0</td>\n",
       "      <td>85.758867</td>\n",
       "      <td>1.158736</td>\n",
       "      <td>2019</td>\n",
       "      <td>grape</td>\n",
       "      <td>3</td>\n",
       "    </tr>\n",
       "    <tr>\n",
       "      <th>2</th>\n",
       "      <td>10</td>\n",
       "      <td>2019-01-21</td>\n",
       "      <td>0.0</td>\n",
       "      <td>0.000000</td>\n",
       "      <td>1.063871</td>\n",
       "      <td>2019</td>\n",
       "      <td>grape</td>\n",
       "      <td>4</td>\n",
       "    </tr>\n",
       "    <tr>\n",
       "      <th>3</th>\n",
       "      <td>10</td>\n",
       "      <td>2019-01-28</td>\n",
       "      <td>0.0</td>\n",
       "      <td>43.022252</td>\n",
       "      <td>1.088352</td>\n",
       "      <td>2019</td>\n",
       "      <td>grape</td>\n",
       "      <td>5</td>\n",
       "    </tr>\n",
       "    <tr>\n",
       "      <th>4</th>\n",
       "      <td>10</td>\n",
       "      <td>2019-02-04</td>\n",
       "      <td>0.0</td>\n",
       "      <td>19.813417</td>\n",
       "      <td>1.166881</td>\n",
       "      <td>2019</td>\n",
       "      <td>grape</td>\n",
       "      <td>6</td>\n",
       "    </tr>\n",
       "  </tbody>\n",
       "</table>\n",
       "</div>"
      ],
      "text/plain": [
       "   tower_id       date  irrigation_mm  actual_precip_mm       pri  year  \\\n",
       "0        10 2019-01-07            0.0         14.204270  1.183220  2019   \n",
       "1        10 2019-01-14            0.0         85.758867  1.158736  2019   \n",
       "2        10 2019-01-21            0.0          0.000000  1.063871  2019   \n",
       "3        10 2019-01-28            0.0         43.022252  1.088352  2019   \n",
       "4        10 2019-02-04            0.0         19.813417  1.166881  2019   \n",
       "\n",
       "    crop  week  \n",
       "0  grape     2  \n",
       "1  grape     3  \n",
       "2  grape     4  \n",
       "3  grape     5  \n",
       "4  grape     6  "
      ]
     },
     "execution_count": 118,
     "metadata": {},
     "output_type": "execute_result"
    }
   ],
   "source": [
    "# Converting a date to week of year\n",
    "towerweekly_clean['week'] = towerweekly_clean['date'].dt.week\n",
    "towerweekly_clean.head()\n",
    "\n",
    "\n",
    "\n"
   ]
  },
  {
   "cell_type": "code",
   "execution_count": 122,
   "metadata": {},
   "outputs": [
    {
     "data": {
      "text/html": [
       "<div>\n",
       "<style scoped>\n",
       "    .dataframe tbody tr th:only-of-type {\n",
       "        vertical-align: middle;\n",
       "    }\n",
       "\n",
       "    .dataframe tbody tr th {\n",
       "        vertical-align: top;\n",
       "    }\n",
       "\n",
       "    .dataframe thead th {\n",
       "        text-align: right;\n",
       "    }\n",
       "</style>\n",
       "<table border=\"1\" class=\"dataframe\">\n",
       "  <thead>\n",
       "    <tr style=\"text-align: right;\">\n",
       "      <th></th>\n",
       "      <th></th>\n",
       "      <th></th>\n",
       "      <th>irrigation_mm</th>\n",
       "      <th>actual_precip_mm</th>\n",
       "      <th>pri</th>\n",
       "      <th>week</th>\n",
       "    </tr>\n",
       "    <tr>\n",
       "      <th>crop</th>\n",
       "      <th>tower_id</th>\n",
       "      <th>year</th>\n",
       "      <th></th>\n",
       "      <th></th>\n",
       "      <th></th>\n",
       "      <th></th>\n",
       "    </tr>\n",
       "  </thead>\n",
       "  <tbody>\n",
       "    <tr>\n",
       "      <th rowspan=\"5\" valign=\"top\"></th>\n",
       "      <th>11</th>\n",
       "      <th>2019</th>\n",
       "      <td>0.040373</td>\n",
       "      <td>28.643572</td>\n",
       "      <td>0.845447</td>\n",
       "      <td>18.0</td>\n",
       "    </tr>\n",
       "    <tr>\n",
       "      <th>13</th>\n",
       "      <th>2019</th>\n",
       "      <td>0.278440</td>\n",
       "      <td>35.770946</td>\n",
       "      <td>0.680209</td>\n",
       "      <td>18.0</td>\n",
       "    </tr>\n",
       "    <tr>\n",
       "      <th>14</th>\n",
       "      <th>2019</th>\n",
       "      <td>0.039500</td>\n",
       "      <td>41.365989</td>\n",
       "      <td>0.976516</td>\n",
       "      <td>8.5</td>\n",
       "    </tr>\n",
       "    <tr>\n",
       "      <th>15</th>\n",
       "      <th>2019</th>\n",
       "      <td>4.010871</td>\n",
       "      <td>10.990815</td>\n",
       "      <td>0.727936</td>\n",
       "      <td>18.0</td>\n",
       "    </tr>\n",
       "    <tr>\n",
       "      <th>16</th>\n",
       "      <th>2019</th>\n",
       "      <td>1.983819</td>\n",
       "      <td>16.680703</td>\n",
       "      <td>0.658404</td>\n",
       "      <td>18.0</td>\n",
       "    </tr>\n",
       "    <tr>\n",
       "      <th>...</th>\n",
       "      <th>...</th>\n",
       "      <th>...</th>\n",
       "      <td>...</td>\n",
       "      <td>...</td>\n",
       "      <td>...</td>\n",
       "      <td>...</td>\n",
       "    </tr>\n",
       "    <tr>\n",
       "      <th rowspan=\"5\" valign=\"top\">table_grape</th>\n",
       "      <th>4024</th>\n",
       "      <th>2019</th>\n",
       "      <td>9.807772</td>\n",
       "      <td>3.474536</td>\n",
       "      <td>0.769213</td>\n",
       "      <td>20.5</td>\n",
       "    </tr>\n",
       "    <tr>\n",
       "      <th>4136</th>\n",
       "      <th>2019</th>\n",
       "      <td>24.078961</td>\n",
       "      <td>1.988580</td>\n",
       "      <td>0.550082</td>\n",
       "      <td>26.0</td>\n",
       "    </tr>\n",
       "    <tr>\n",
       "      <th>4141</th>\n",
       "      <th>2019</th>\n",
       "      <td>35.701270</td>\n",
       "      <td>2.235294</td>\n",
       "      <td>0.621947</td>\n",
       "      <td>26.0</td>\n",
       "    </tr>\n",
       "    <tr>\n",
       "      <th>4209</th>\n",
       "      <th>2019</th>\n",
       "      <td>79.454610</td>\n",
       "      <td>2.352941</td>\n",
       "      <td>0.792477</td>\n",
       "      <td>26.0</td>\n",
       "    </tr>\n",
       "    <tr>\n",
       "      <th>4224</th>\n",
       "      <th>2019</th>\n",
       "      <td>0.000000</td>\n",
       "      <td>1.776471</td>\n",
       "      <td>0.779789</td>\n",
       "      <td>26.0</td>\n",
       "    </tr>\n",
       "  </tbody>\n",
       "</table>\n",
       "<p>1207 rows × 4 columns</p>\n",
       "</div>"
      ],
      "text/plain": [
       "                           irrigation_mm  actual_precip_mm       pri  week\n",
       "crop        tower_id year                                                 \n",
       "            11       2019       0.040373         28.643572  0.845447  18.0\n",
       "            13       2019       0.278440         35.770946  0.680209  18.0\n",
       "            14       2019       0.039500         41.365989  0.976516   8.5\n",
       "            15       2019       4.010871         10.990815  0.727936  18.0\n",
       "            16       2019       1.983819         16.680703  0.658404  18.0\n",
       "...                                  ...               ...       ...   ...\n",
       "table_grape 4024     2019       9.807772          3.474536  0.769213  20.5\n",
       "            4136     2019      24.078961          1.988580  0.550082  26.0\n",
       "            4141     2019      35.701270          2.235294  0.621947  26.0\n",
       "            4209     2019      79.454610          2.352941  0.792477  26.0\n",
       "            4224     2019       0.000000          1.776471  0.779789  26.0\n",
       "\n",
       "[1207 rows x 4 columns]"
      ]
     },
     "execution_count": 122,
     "metadata": {},
     "output_type": "execute_result"
    }
   ],
   "source": [
    "# Create three new dataframes for grape, table grape and pistachio.\n",
    "# col1 = week number of year, col2 = average pri across all years and towers.\n",
    "towerweekly_clean.head()\n",
    "\n",
    "towerweekly_clean.groupby(by = ['crop', 'tower_id', 'year']).mean()"
   ]
  },
  {
   "cell_type": "code",
   "execution_count": 46,
   "metadata": {},
   "outputs": [
    {
     "data": {
      "text/html": [
       "<div>\n",
       "<style scoped>\n",
       "    .dataframe tbody tr th:only-of-type {\n",
       "        vertical-align: middle;\n",
       "    }\n",
       "\n",
       "    .dataframe tbody tr th {\n",
       "        vertical-align: top;\n",
       "    }\n",
       "\n",
       "    .dataframe thead th {\n",
       "        text-align: right;\n",
       "    }\n",
       "</style>\n",
       "<table border=\"1\" class=\"dataframe\">\n",
       "  <thead>\n",
       "    <tr style=\"text-align: right;\">\n",
       "      <th></th>\n",
       "      <th>tower_id</th>\n",
       "      <th>year</th>\n",
       "      <th>actual_max_canopy</th>\n",
       "      <th>max_canopy_date</th>\n",
       "      <th>pri</th>\n",
       "      <th>irrigation_mm</th>\n",
       "      <th>actual_precip_mm</th>\n",
       "      <th>date</th>\n",
       "      <th>different</th>\n",
       "      <th>crop</th>\n",
       "      <th>metacrop</th>\n",
       "      <th>betweenrowft</th>\n",
       "      <th>slope</th>\n",
       "      <th>aspect</th>\n",
       "      <th>region</th>\n",
       "      <th>subregion</th>\n",
       "      <th>installed_at</th>\n",
       "      <th>young_plant</th>\n",
       "      <th>trellis_type</th>\n",
       "      <th>dayofyear</th>\n",
       "    </tr>\n",
       "  </thead>\n",
       "  <tbody>\n",
       "    <tr>\n",
       "      <th>0</th>\n",
       "      <td>3512</td>\n",
       "      <td>2019</td>\n",
       "      <td>0.458826</td>\n",
       "      <td>2019-07-08</td>\n",
       "      <td>0.458826</td>\n",
       "      <td>0.000000</td>\n",
       "      <td>0.0</td>\n",
       "      <td>2019-07-08</td>\n",
       "      <td>0.0</td>\n",
       "      <td>grape</td>\n",
       "      <td>vine</td>\n",
       "      <td>7.0</td>\n",
       "      <td>2</td>\n",
       "      <td>198</td>\n",
       "      <td>NCoast</td>\n",
       "      <td>carneros</td>\n",
       "      <td>2018-06-07 22:24:00</td>\n",
       "      <td>False</td>\n",
       "      <td>quad</td>\n",
       "      <td>189</td>\n",
       "    </tr>\n",
       "    <tr>\n",
       "      <th>1</th>\n",
       "      <td>2048</td>\n",
       "      <td>2019</td>\n",
       "      <td>0.660164</td>\n",
       "      <td>2019-06-17</td>\n",
       "      <td>0.660164</td>\n",
       "      <td>2.020265</td>\n",
       "      <td>0.0</td>\n",
       "      <td>2019-06-17</td>\n",
       "      <td>0.0</td>\n",
       "      <td>grape</td>\n",
       "      <td>vine</td>\n",
       "      <td>8.0</td>\n",
       "      <td>1</td>\n",
       "      <td>206</td>\n",
       "      <td>CCoast</td>\n",
       "      <td>pasorobles</td>\n",
       "      <td>2017-03-09 19:09:41</td>\n",
       "      <td>True</td>\n",
       "      <td>vsp</td>\n",
       "      <td>168</td>\n",
       "    </tr>\n",
       "    <tr>\n",
       "      <th>2</th>\n",
       "      <td>832</td>\n",
       "      <td>2019</td>\n",
       "      <td>0.515444</td>\n",
       "      <td>2019-07-08</td>\n",
       "      <td>0.515444</td>\n",
       "      <td>0.000000</td>\n",
       "      <td>0.0</td>\n",
       "      <td>2019-07-08</td>\n",
       "      <td>0.0</td>\n",
       "      <td>grape</td>\n",
       "      <td>vine</td>\n",
       "      <td>8.0</td>\n",
       "      <td>2</td>\n",
       "      <td>190</td>\n",
       "      <td>NCoast</td>\n",
       "      <td>carneros</td>\n",
       "      <td>2016-03-03 00:25:00</td>\n",
       "      <td>False</td>\n",
       "      <td>vsp</td>\n",
       "      <td>189</td>\n",
       "    </tr>\n",
       "    <tr>\n",
       "      <th>3</th>\n",
       "      <td>4230</td>\n",
       "      <td>2019</td>\n",
       "      <td>0.580303</td>\n",
       "      <td>2019-07-08</td>\n",
       "      <td>0.580303</td>\n",
       "      <td>6.047731</td>\n",
       "      <td>0.0</td>\n",
       "      <td>2019-07-08</td>\n",
       "      <td>0.0</td>\n",
       "      <td>grape</td>\n",
       "      <td>vine</td>\n",
       "      <td>8.0</td>\n",
       "      <td>10</td>\n",
       "      <td>335</td>\n",
       "      <td>NCoast</td>\n",
       "      <td>carneros</td>\n",
       "      <td>2019-04-19 18:47:10</td>\n",
       "      <td>False</td>\n",
       "      <td>vsp</td>\n",
       "      <td>189</td>\n",
       "    </tr>\n",
       "    <tr>\n",
       "      <th>4</th>\n",
       "      <td>2305</td>\n",
       "      <td>2019</td>\n",
       "      <td>0.701330</td>\n",
       "      <td>2019-06-10</td>\n",
       "      <td>0.701330</td>\n",
       "      <td>0.000000</td>\n",
       "      <td>0.0</td>\n",
       "      <td>2019-06-10</td>\n",
       "      <td>0.0</td>\n",
       "      <td>grape</td>\n",
       "      <td>vine</td>\n",
       "      <td>9.0</td>\n",
       "      <td>1</td>\n",
       "      <td>225</td>\n",
       "      <td>CCoast</td>\n",
       "      <td>pasorobles</td>\n",
       "      <td>2017-04-26 22:30:47</td>\n",
       "      <td>True</td>\n",
       "      <td>vsp</td>\n",
       "      <td>161</td>\n",
       "    </tr>\n",
       "  </tbody>\n",
       "</table>\n",
       "</div>"
      ],
      "text/plain": [
       "   tower_id  year  actual_max_canopy max_canopy_date       pri  irrigation_mm  \\\n",
       "0      3512  2019           0.458826      2019-07-08  0.458826       0.000000   \n",
       "1      2048  2019           0.660164      2019-06-17  0.660164       2.020265   \n",
       "2       832  2019           0.515444      2019-07-08  0.515444       0.000000   \n",
       "3      4230  2019           0.580303      2019-07-08  0.580303       6.047731   \n",
       "4      2305  2019           0.701330      2019-06-10  0.701330       0.000000   \n",
       "\n",
       "   actual_precip_mm       date  different   crop metacrop  betweenrowft  \\\n",
       "0               0.0 2019-07-08        0.0  grape     vine           7.0   \n",
       "1               0.0 2019-06-17        0.0  grape     vine           8.0   \n",
       "2               0.0 2019-07-08        0.0  grape     vine           8.0   \n",
       "3               0.0 2019-07-08        0.0  grape     vine           8.0   \n",
       "4               0.0 2019-06-10        0.0  grape     vine           9.0   \n",
       "\n",
       "   slope  aspect  region   subregion        installed_at young_plant  \\\n",
       "0      2     198  NCoast    carneros 2018-06-07 22:24:00       False   \n",
       "1      1     206  CCoast  pasorobles 2017-03-09 19:09:41        True   \n",
       "2      2     190  NCoast    carneros 2016-03-03 00:25:00       False   \n",
       "3     10     335  NCoast    carneros 2019-04-19 18:47:10       False   \n",
       "4      1     225  CCoast  pasorobles 2017-04-26 22:30:47        True   \n",
       "\n",
       "  trellis_type  dayofyear  \n",
       "0         quad        189  \n",
       "1          vsp        168  \n",
       "2          vsp        189  \n",
       "3          vsp        189  \n",
       "4          vsp        161  "
      ]
     },
     "execution_count": 46,
     "metadata": {},
     "output_type": "execute_result"
    }
   ],
   "source": [
    "final_table.head()"
   ]
  },
  {
   "cell_type": "markdown",
   "metadata": {},
   "source": [
    "## Phase 1"
   ]
  },
  {
   "cell_type": "markdown",
   "metadata": {},
   "source": [
    "### Merge towers into tower_seasons.\n",
    "### Convert max_canopy_date to numeric.\n",
    "### For each tower calculate the years of data (# of instances of a max_canopy_date), average max_canopy_date and the standard deviation of max_canopy_date."
   ]
  },
  {
   "cell_type": "code",
   "execution_count": 47,
   "metadata": {},
   "outputs": [
    {
     "data": {
      "text/plain": [
       "array([2019, 2015, 2017, 2018, 2016, 2014])"
      ]
     },
     "execution_count": 47,
     "metadata": {},
     "output_type": "execute_result"
    }
   ],
   "source": [
    "# Phase 1 \n",
    "# This dataset is best for a more simple statistical approach.\n",
    "# Looks at historic data, looks at similar sites.\n",
    "# If no historical data, determines a window for looking for the max canopy using median  + 1 SD.\n",
    "# Uses tower seasons\n",
    "towerseasons_clean['year'].unique()"
   ]
  },
  {
   "cell_type": "code",
   "execution_count": 48,
   "metadata": {},
   "outputs": [
    {
     "data": {
      "text/plain": [
       "array(['grape', nan, 'walnut', 'tomato', 'almond', 'other', 'alfalfa',\n",
       "       'avocado', 'strawberry', 'prune', 'cotton', 'pistachio', 'wheat',\n",
       "       'corn', 'citrus', 'sunflower', 'olive', 'melon', 'table_grape',\n",
       "       'cherry', 'raisin'], dtype=object)"
      ]
     },
     "execution_count": 48,
     "metadata": {},
     "output_type": "execute_result"
    }
   ],
   "source": [
    "towers.head(1)\n",
    "towers.crop.unique()"
   ]
  },
  {
   "cell_type": "code",
   "execution_count": 49,
   "metadata": {},
   "outputs": [
    {
     "data": {
      "text/html": [
       "<div>\n",
       "<style scoped>\n",
       "    .dataframe tbody tr th:only-of-type {\n",
       "        vertical-align: middle;\n",
       "    }\n",
       "\n",
       "    .dataframe tbody tr th {\n",
       "        vertical-align: top;\n",
       "    }\n",
       "\n",
       "    .dataframe thead th {\n",
       "        text-align: right;\n",
       "    }\n",
       "</style>\n",
       "<table border=\"1\" class=\"dataframe\">\n",
       "  <thead>\n",
       "    <tr style=\"text-align: right;\">\n",
       "      <th></th>\n",
       "      <th>tower_id</th>\n",
       "      <th>year</th>\n",
       "      <th>actual_max_canopy</th>\n",
       "      <th>max_canopy_date</th>\n",
       "    </tr>\n",
       "  </thead>\n",
       "  <tbody>\n",
       "    <tr>\n",
       "      <th>0</th>\n",
       "      <td>5562</td>\n",
       "      <td>2011</td>\n",
       "      <td>NaN</td>\n",
       "      <td>2011-06-22</td>\n",
       "    </tr>\n",
       "    <tr>\n",
       "      <th>1</th>\n",
       "      <td>4151</td>\n",
       "      <td>2020</td>\n",
       "      <td>NaN</td>\n",
       "      <td>NaT</td>\n",
       "    </tr>\n",
       "    <tr>\n",
       "      <th>2</th>\n",
       "      <td>3512</td>\n",
       "      <td>2019</td>\n",
       "      <td>0.458826</td>\n",
       "      <td>2019-07-08</td>\n",
       "    </tr>\n",
       "    <tr>\n",
       "      <th>3</th>\n",
       "      <td>2272</td>\n",
       "      <td>2019</td>\n",
       "      <td>NaN</td>\n",
       "      <td>NaT</td>\n",
       "    </tr>\n",
       "    <tr>\n",
       "      <th>4</th>\n",
       "      <td>4949</td>\n",
       "      <td>2012</td>\n",
       "      <td>NaN</td>\n",
       "      <td>2012-06-08</td>\n",
       "    </tr>\n",
       "    <tr>\n",
       "      <th>5</th>\n",
       "      <td>5409</td>\n",
       "      <td>2019</td>\n",
       "      <td>NaN</td>\n",
       "      <td>NaT</td>\n",
       "    </tr>\n",
       "    <tr>\n",
       "      <th>6</th>\n",
       "      <td>3863</td>\n",
       "      <td>2011</td>\n",
       "      <td>NaN</td>\n",
       "      <td>2011-02-27</td>\n",
       "    </tr>\n",
       "    <tr>\n",
       "      <th>7</th>\n",
       "      <td>4214</td>\n",
       "      <td>2019</td>\n",
       "      <td>NaN</td>\n",
       "      <td>NaT</td>\n",
       "    </tr>\n",
       "    <tr>\n",
       "      <th>8</th>\n",
       "      <td>4949</td>\n",
       "      <td>2015</td>\n",
       "      <td>NaN</td>\n",
       "      <td>2015-07-18</td>\n",
       "    </tr>\n",
       "    <tr>\n",
       "      <th>9</th>\n",
       "      <td>334</td>\n",
       "      <td>2013</td>\n",
       "      <td>NaN</td>\n",
       "      <td>2013-06-26</td>\n",
       "    </tr>\n",
       "  </tbody>\n",
       "</table>\n",
       "</div>"
      ],
      "text/plain": [
       "   tower_id  year  actual_max_canopy max_canopy_date\n",
       "0      5562  2011                NaN      2011-06-22\n",
       "1      4151  2020                NaN             NaT\n",
       "2      3512  2019           0.458826      2019-07-08\n",
       "3      2272  2019                NaN             NaT\n",
       "4      4949  2012                NaN      2012-06-08\n",
       "5      5409  2019                NaN             NaT\n",
       "6      3863  2011                NaN      2011-02-27\n",
       "7      4214  2019                NaN             NaT\n",
       "8      4949  2015                NaN      2015-07-18\n",
       "9       334  2013                NaN      2013-06-26"
      ]
     },
     "execution_count": 49,
     "metadata": {},
     "output_type": "execute_result"
    }
   ],
   "source": [
    "towerseasons.head(10)"
   ]
  },
  {
   "cell_type": "code",
   "execution_count": 50,
   "metadata": {},
   "outputs": [
    {
     "data": {
      "text/plain": [
       "(14837, 4)"
      ]
     },
     "execution_count": 50,
     "metadata": {},
     "output_type": "execute_result"
    }
   ],
   "source": [
    "towerseasons.shape"
   ]
  },
  {
   "cell_type": "code",
   "execution_count": 51,
   "metadata": {},
   "outputs": [
    {
     "data": {
      "text/plain": [
       "tower_id                 0\n",
       "crop                    35\n",
       "metacrop                35\n",
       "betweenrowft            28\n",
       "slope                   28\n",
       "aspect                  28\n",
       "region                  28\n",
       "subregion               28\n",
       "installed_at            28\n",
       "young_plant            212\n",
       "trellis_type          3582\n",
       "year                     0\n",
       "actual_max_canopy    10468\n",
       "max_canopy_date       1492\n",
       "dtype: int64"
      ]
     },
     "execution_count": 51,
     "metadata": {},
     "output_type": "execute_result"
    }
   ],
   "source": [
    "# Merging tower seasons and towers\n",
    "towers.head()\n",
    "towerseasons.head()\n",
    "\n",
    "# Right merge to keep all keys from towerseasons\n",
    "full_towers = pd.merge(towers, towerseasons, on='tower_id', how='right')\n",
    "full_towers.head()\n",
    "full_towers.shape\n",
    "\n",
    "# Totalling NA values \n",
    "full_towers.isna().sum()"
   ]
  },
  {
   "cell_type": "code",
   "execution_count": 74,
   "metadata": {},
   "outputs": [
    {
     "data": {
      "text/html": [
       "<div>\n",
       "<style scoped>\n",
       "    .dataframe tbody tr th:only-of-type {\n",
       "        vertical-align: middle;\n",
       "    }\n",
       "\n",
       "    .dataframe tbody tr th {\n",
       "        vertical-align: top;\n",
       "    }\n",
       "\n",
       "    .dataframe thead th {\n",
       "        text-align: right;\n",
       "    }\n",
       "</style>\n",
       "<table border=\"1\" class=\"dataframe\">\n",
       "  <thead>\n",
       "    <tr style=\"text-align: right;\">\n",
       "      <th></th>\n",
       "      <th>tower_id</th>\n",
       "      <th>crop</th>\n",
       "      <th>metacrop</th>\n",
       "      <th>betweenrowft</th>\n",
       "      <th>slope</th>\n",
       "      <th>aspect</th>\n",
       "      <th>region</th>\n",
       "      <th>subregion</th>\n",
       "      <th>installed_at</th>\n",
       "      <th>young_plant</th>\n",
       "      <th>trellis_type</th>\n",
       "      <th>year</th>\n",
       "      <th>actual_max_canopy</th>\n",
       "      <th>max_canopy_date</th>\n",
       "      <th>dayofyear</th>\n",
       "    </tr>\n",
       "  </thead>\n",
       "  <tbody>\n",
       "    <tr>\n",
       "      <th>4</th>\n",
       "      <td>4068</td>\n",
       "      <td>grape</td>\n",
       "      <td>vine</td>\n",
       "      <td>5.0</td>\n",
       "      <td>4.0</td>\n",
       "      <td>85.0</td>\n",
       "      <td>NCoast</td>\n",
       "      <td>napa</td>\n",
       "      <td>2019-04-03 18:42:35</td>\n",
       "      <td>True</td>\n",
       "      <td>vsp</td>\n",
       "      <td>2019</td>\n",
       "      <td>1.033074</td>\n",
       "      <td>2019-06-17</td>\n",
       "      <td>168.0</td>\n",
       "    </tr>\n",
       "    <tr>\n",
       "      <th>9</th>\n",
       "      <td>3490</td>\n",
       "      <td>grape</td>\n",
       "      <td>vine</td>\n",
       "      <td>8.0</td>\n",
       "      <td>0.0</td>\n",
       "      <td>297.0</td>\n",
       "      <td>NCoast</td>\n",
       "      <td>napa</td>\n",
       "      <td>2018-04-19 22:57:42</td>\n",
       "      <td>False</td>\n",
       "      <td>vsp</td>\n",
       "      <td>2018</td>\n",
       "      <td>0.919281</td>\n",
       "      <td>2018-06-25</td>\n",
       "      <td>176.0</td>\n",
       "    </tr>\n",
       "    <tr>\n",
       "      <th>11</th>\n",
       "      <td>3490</td>\n",
       "      <td>grape</td>\n",
       "      <td>vine</td>\n",
       "      <td>8.0</td>\n",
       "      <td>0.0</td>\n",
       "      <td>297.0</td>\n",
       "      <td>NCoast</td>\n",
       "      <td>napa</td>\n",
       "      <td>2018-04-19 22:57:42</td>\n",
       "      <td>False</td>\n",
       "      <td>vsp</td>\n",
       "      <td>2019</td>\n",
       "      <td>1.031695</td>\n",
       "      <td>2019-06-24</td>\n",
       "      <td>175.0</td>\n",
       "    </tr>\n",
       "    <tr>\n",
       "      <th>19</th>\n",
       "      <td>1297</td>\n",
       "      <td>grape</td>\n",
       "      <td>vine</td>\n",
       "      <td>10.0</td>\n",
       "      <td>1.0</td>\n",
       "      <td>252.0</td>\n",
       "      <td>NCoast</td>\n",
       "      <td>napa</td>\n",
       "      <td>2016-05-20 19:16:29</td>\n",
       "      <td>False</td>\n",
       "      <td>lyre</td>\n",
       "      <td>2019</td>\n",
       "      <td>0.943267</td>\n",
       "      <td>2019-07-08</td>\n",
       "      <td>189.0</td>\n",
       "    </tr>\n",
       "    <tr>\n",
       "      <th>22</th>\n",
       "      <td>1297</td>\n",
       "      <td>grape</td>\n",
       "      <td>vine</td>\n",
       "      <td>10.0</td>\n",
       "      <td>1.0</td>\n",
       "      <td>252.0</td>\n",
       "      <td>NCoast</td>\n",
       "      <td>napa</td>\n",
       "      <td>2016-05-20 19:16:29</td>\n",
       "      <td>False</td>\n",
       "      <td>lyre</td>\n",
       "      <td>2016</td>\n",
       "      <td>0.929295</td>\n",
       "      <td>2016-06-05</td>\n",
       "      <td>157.0</td>\n",
       "    </tr>\n",
       "  </tbody>\n",
       "</table>\n",
       "</div>"
      ],
      "text/plain": [
       "    tower_id   crop metacrop  betweenrowft  slope  aspect  region subregion  \\\n",
       "4       4068  grape     vine           5.0    4.0    85.0  NCoast      napa   \n",
       "9       3490  grape     vine           8.0    0.0   297.0  NCoast      napa   \n",
       "11      3490  grape     vine           8.0    0.0   297.0  NCoast      napa   \n",
       "19      1297  grape     vine          10.0    1.0   252.0  NCoast      napa   \n",
       "22      1297  grape     vine          10.0    1.0   252.0  NCoast      napa   \n",
       "\n",
       "          installed_at young_plant trellis_type  year  actual_max_canopy  \\\n",
       "4  2019-04-03 18:42:35        True          vsp  2019           1.033074   \n",
       "9  2018-04-19 22:57:42       False          vsp  2018           0.919281   \n",
       "11 2018-04-19 22:57:42       False          vsp  2019           1.031695   \n",
       "19 2016-05-20 19:16:29       False         lyre  2019           0.943267   \n",
       "22 2016-05-20 19:16:29       False         lyre  2016           0.929295   \n",
       "\n",
       "   max_canopy_date  dayofyear  \n",
       "4       2019-06-17      168.0  \n",
       "9       2018-06-25      176.0  \n",
       "11      2019-06-24      175.0  \n",
       "19      2019-07-08      189.0  \n",
       "22      2016-06-05      157.0  "
      ]
     },
     "execution_count": 74,
     "metadata": {},
     "output_type": "execute_result"
    }
   ],
   "source": [
    "# Totaling clean values\n",
    "full_towers_clean = full_towers.dropna()\n",
    "full_towers_clean.head()"
   ]
  },
  {
   "cell_type": "code",
   "execution_count": 53,
   "metadata": {},
   "outputs": [],
   "source": [
    "# Convert max_canopy_date to numeric\n",
    "# Now have a new column 'dayofyear' equivalent to the day of year\n",
    "full_towers['dayofyear'] = full_towers['max_canopy_date'].dt.dayofyear"
   ]
  },
  {
   "cell_type": "code",
   "execution_count": 54,
   "metadata": {},
   "outputs": [
    {
     "data": {
      "text/plain": [
       "tower_id\n",
       "5     7\n",
       "6     6\n",
       "10    9\n",
       "11    9\n",
       "12    5\n",
       "Name: max_canopy_date, dtype: int64"
      ]
     },
     "execution_count": 54,
     "metadata": {},
     "output_type": "execute_result"
    }
   ],
   "source": [
    "full_towers_group = full_towers.groupby('tower_id')['max_canopy_date'].count()\n",
    "full_towers_group.head()"
   ]
  },
  {
   "cell_type": "code",
   "execution_count": 55,
   "metadata": {},
   "outputs": [
    {
     "data": {
      "text/html": [
       "<div>\n",
       "<style scoped>\n",
       "    .dataframe tbody tr th:only-of-type {\n",
       "        vertical-align: middle;\n",
       "    }\n",
       "\n",
       "    .dataframe tbody tr th {\n",
       "        vertical-align: top;\n",
       "    }\n",
       "\n",
       "    .dataframe thead tr th {\n",
       "        text-align: left;\n",
       "    }\n",
       "\n",
       "    .dataframe thead tr:last-of-type th {\n",
       "        text-align: right;\n",
       "    }\n",
       "</style>\n",
       "<table border=\"1\" class=\"dataframe\">\n",
       "  <thead>\n",
       "    <tr>\n",
       "      <th></th>\n",
       "      <th colspan=\"3\" halign=\"left\">dayofyear</th>\n",
       "    </tr>\n",
       "    <tr>\n",
       "      <th></th>\n",
       "      <th>yrs_of_data</th>\n",
       "      <th>average_max_date</th>\n",
       "      <th>std_max_date</th>\n",
       "    </tr>\n",
       "    <tr>\n",
       "      <th>tower_id</th>\n",
       "      <th></th>\n",
       "      <th></th>\n",
       "      <th></th>\n",
       "    </tr>\n",
       "  </thead>\n",
       "  <tbody>\n",
       "    <tr>\n",
       "      <th>5</th>\n",
       "      <td>7</td>\n",
       "      <td>174.142857</td>\n",
       "      <td>14.484803</td>\n",
       "    </tr>\n",
       "    <tr>\n",
       "      <th>6</th>\n",
       "      <td>6</td>\n",
       "      <td>150.166667</td>\n",
       "      <td>20.769368</td>\n",
       "    </tr>\n",
       "    <tr>\n",
       "      <th>10</th>\n",
       "      <td>9</td>\n",
       "      <td>172.888889</td>\n",
       "      <td>14.084073</td>\n",
       "    </tr>\n",
       "    <tr>\n",
       "      <th>11</th>\n",
       "      <td>9</td>\n",
       "      <td>187.222222</td>\n",
       "      <td>19.696305</td>\n",
       "    </tr>\n",
       "    <tr>\n",
       "      <th>12</th>\n",
       "      <td>5</td>\n",
       "      <td>182.200000</td>\n",
       "      <td>17.626684</td>\n",
       "    </tr>\n",
       "    <tr>\n",
       "      <th>13</th>\n",
       "      <td>9</td>\n",
       "      <td>181.666667</td>\n",
       "      <td>13.674794</td>\n",
       "    </tr>\n",
       "    <tr>\n",
       "      <th>14</th>\n",
       "      <td>8</td>\n",
       "      <td>195.625000</td>\n",
       "      <td>11.783008</td>\n",
       "    </tr>\n",
       "    <tr>\n",
       "      <th>15</th>\n",
       "      <td>9</td>\n",
       "      <td>160.555556</td>\n",
       "      <td>21.054163</td>\n",
       "    </tr>\n",
       "    <tr>\n",
       "      <th>16</th>\n",
       "      <td>9</td>\n",
       "      <td>167.444444</td>\n",
       "      <td>16.860539</td>\n",
       "    </tr>\n",
       "    <tr>\n",
       "      <th>17</th>\n",
       "      <td>9</td>\n",
       "      <td>179.000000</td>\n",
       "      <td>22.891046</td>\n",
       "    </tr>\n",
       "  </tbody>\n",
       "</table>\n",
       "</div>"
      ],
      "text/plain": [
       "           dayofyear                              \n",
       "         yrs_of_data average_max_date std_max_date\n",
       "tower_id                                          \n",
       "5                  7       174.142857    14.484803\n",
       "6                  6       150.166667    20.769368\n",
       "10                 9       172.888889    14.084073\n",
       "11                 9       187.222222    19.696305\n",
       "12                 5       182.200000    17.626684\n",
       "13                 9       181.666667    13.674794\n",
       "14                 8       195.625000    11.783008\n",
       "15                 9       160.555556    21.054163\n",
       "16                 9       167.444444    16.860539\n",
       "17                 9       179.000000    22.891046"
      ]
     },
     "execution_count": 55,
     "metadata": {},
     "output_type": "execute_result"
    }
   ],
   "source": [
    "full_towers_summary =  full_towers.groupby(by='tower_id').agg({'dayofyear': ['count', 'mean', 'std']}).rename(columns={'count': 'yrs_of_data', 'mean': 'average_max_date', 'std':'std_max_date'})\n",
    "full_towers_summary.head(10)"
   ]
  },
  {
   "cell_type": "code",
   "execution_count": 56,
   "metadata": {},
   "outputs": [
    {
     "data": {
      "text/plain": [
       "std_max_date    21.165978\n",
       "dtype: float64"
      ]
     },
     "execution_count": 56,
     "metadata": {},
     "output_type": "execute_result"
    }
   ],
   "source": [
    "mean = np.mean(full_towers_summary['dayofyear'][['std_max_date']])\n",
    "mean"
   ]
  },
  {
   "cell_type": "code",
   "execution_count": 57,
   "metadata": {},
   "outputs": [
    {
     "data": {
      "text/html": [
       "<div>\n",
       "<style scoped>\n",
       "    .dataframe tbody tr th:only-of-type {\n",
       "        vertical-align: middle;\n",
       "    }\n",
       "\n",
       "    .dataframe tbody tr th {\n",
       "        vertical-align: top;\n",
       "    }\n",
       "\n",
       "    .dataframe thead tr th {\n",
       "        text-align: left;\n",
       "    }\n",
       "</style>\n",
       "<table border=\"1\" class=\"dataframe\">\n",
       "  <thead>\n",
       "    <tr>\n",
       "      <th></th>\n",
       "      <th colspan=\"3\" halign=\"left\">dayofyear</th>\n",
       "    </tr>\n",
       "    <tr>\n",
       "      <th></th>\n",
       "      <th>yrs_of_data</th>\n",
       "      <th>average_max_date</th>\n",
       "      <th>std_max_date</th>\n",
       "    </tr>\n",
       "  </thead>\n",
       "  <tbody>\n",
       "    <tr>\n",
       "      <th>count</th>\n",
       "      <td>1815.000000</td>\n",
       "      <td>1745.000000</td>\n",
       "      <td>1596.000000</td>\n",
       "    </tr>\n",
       "    <tr>\n",
       "      <th>mean</th>\n",
       "      <td>7.352617</td>\n",
       "      <td>165.697250</td>\n",
       "      <td>21.165978</td>\n",
       "    </tr>\n",
       "    <tr>\n",
       "      <th>std</th>\n",
       "      <td>2.715906</td>\n",
       "      <td>22.651970</td>\n",
       "      <td>8.382292</td>\n",
       "    </tr>\n",
       "    <tr>\n",
       "      <th>min</th>\n",
       "      <td>0.000000</td>\n",
       "      <td>15.000000</td>\n",
       "      <td>0.000000</td>\n",
       "    </tr>\n",
       "    <tr>\n",
       "      <th>25%</th>\n",
       "      <td>7.000000</td>\n",
       "      <td>155.500000</td>\n",
       "      <td>15.395125</td>\n",
       "    </tr>\n",
       "    <tr>\n",
       "      <th>50%</th>\n",
       "      <td>9.000000</td>\n",
       "      <td>170.400000</td>\n",
       "      <td>19.679777</td>\n",
       "    </tr>\n",
       "    <tr>\n",
       "      <th>75%</th>\n",
       "      <td>9.000000</td>\n",
       "      <td>179.777778</td>\n",
       "      <td>25.751213</td>\n",
       "    </tr>\n",
       "    <tr>\n",
       "      <th>max</th>\n",
       "      <td>9.000000</td>\n",
       "      <td>272.000000</td>\n",
       "      <td>159.806133</td>\n",
       "    </tr>\n",
       "  </tbody>\n",
       "</table>\n",
       "</div>"
      ],
      "text/plain": [
       "         dayofyear                              \n",
       "       yrs_of_data average_max_date std_max_date\n",
       "count  1815.000000      1745.000000  1596.000000\n",
       "mean      7.352617       165.697250    21.165978\n",
       "std       2.715906        22.651970     8.382292\n",
       "min       0.000000        15.000000     0.000000\n",
       "25%       7.000000       155.500000    15.395125\n",
       "50%       9.000000       170.400000    19.679777\n",
       "75%       9.000000       179.777778    25.751213\n",
       "max       9.000000       272.000000   159.806133"
      ]
     },
     "execution_count": 57,
     "metadata": {},
     "output_type": "execute_result"
    }
   ],
   "source": [
    "full_towers_summary.describe()"
   ]
  },
  {
   "cell_type": "code",
   "execution_count": 58,
   "metadata": {},
   "outputs": [
    {
     "data": {
      "text/html": [
       "<div>\n",
       "<style scoped>\n",
       "    .dataframe tbody tr th:only-of-type {\n",
       "        vertical-align: middle;\n",
       "    }\n",
       "\n",
       "    .dataframe tbody tr th {\n",
       "        vertical-align: top;\n",
       "    }\n",
       "\n",
       "    .dataframe thead tr th {\n",
       "        text-align: left;\n",
       "    }\n",
       "\n",
       "    .dataframe thead tr:last-of-type th {\n",
       "        text-align: right;\n",
       "    }\n",
       "</style>\n",
       "<table border=\"1\" class=\"dataframe\">\n",
       "  <thead>\n",
       "    <tr>\n",
       "      <th></th>\n",
       "      <th></th>\n",
       "      <th colspan=\"3\" halign=\"left\">dayofyear</th>\n",
       "    </tr>\n",
       "    <tr>\n",
       "      <th></th>\n",
       "      <th></th>\n",
       "      <th>yrs_of_data</th>\n",
       "      <th>average_max_date</th>\n",
       "      <th>std_max_date</th>\n",
       "    </tr>\n",
       "    <tr>\n",
       "      <th>tower_id</th>\n",
       "      <th>crop</th>\n",
       "      <th></th>\n",
       "      <th></th>\n",
       "      <th></th>\n",
       "    </tr>\n",
       "  </thead>\n",
       "  <tbody>\n",
       "    <tr>\n",
       "      <th>5</th>\n",
       "      <th>grape</th>\n",
       "      <td>7</td>\n",
       "      <td>174.142857</td>\n",
       "      <td>14.484803</td>\n",
       "    </tr>\n",
       "    <tr>\n",
       "      <th>6</th>\n",
       "      <th>grape</th>\n",
       "      <td>6</td>\n",
       "      <td>150.166667</td>\n",
       "      <td>20.769368</td>\n",
       "    </tr>\n",
       "    <tr>\n",
       "      <th>10</th>\n",
       "      <th>grape</th>\n",
       "      <td>9</td>\n",
       "      <td>172.888889</td>\n",
       "      <td>14.084073</td>\n",
       "    </tr>\n",
       "    <tr>\n",
       "      <th>11</th>\n",
       "      <th>grape</th>\n",
       "      <td>9</td>\n",
       "      <td>187.222222</td>\n",
       "      <td>19.696305</td>\n",
       "    </tr>\n",
       "    <tr>\n",
       "      <th>12</th>\n",
       "      <th>grape</th>\n",
       "      <td>5</td>\n",
       "      <td>182.200000</td>\n",
       "      <td>17.626684</td>\n",
       "    </tr>\n",
       "  </tbody>\n",
       "</table>\n",
       "</div>"
      ],
      "text/plain": [
       "                 dayofyear                              \n",
       "               yrs_of_data average_max_date std_max_date\n",
       "tower_id crop                                           \n",
       "5        grape           7       174.142857    14.484803\n",
       "6        grape           6       150.166667    20.769368\n",
       "10       grape           9       172.888889    14.084073\n",
       "11       grape           9       187.222222    19.696305\n",
       "12       grape           5       182.200000    17.626684"
      ]
     },
     "execution_count": 58,
     "metadata": {},
     "output_type": "execute_result"
    }
   ],
   "source": [
    "full_towers_summary_crop =  full_towers.groupby(by=['tower_id', 'crop']).agg({'dayofyear': ['count', 'mean', 'std']}).rename(columns={'count': 'yrs_of_data', 'mean': 'average_max_date', 'std':'std_max_date'})\n",
    "full_towers_summary_crop.head()"
   ]
  },
  {
   "cell_type": "code",
   "execution_count": 59,
   "metadata": {},
   "outputs": [
    {
     "data": {
      "text/html": [
       "<div>\n",
       "<style scoped>\n",
       "    .dataframe tbody tr th:only-of-type {\n",
       "        vertical-align: middle;\n",
       "    }\n",
       "\n",
       "    .dataframe tbody tr th {\n",
       "        vertical-align: top;\n",
       "    }\n",
       "\n",
       "    .dataframe thead tr th {\n",
       "        text-align: left;\n",
       "    }\n",
       "\n",
       "    .dataframe thead tr:last-of-type th {\n",
       "        text-align: right;\n",
       "    }\n",
       "</style>\n",
       "<table border=\"1\" class=\"dataframe\">\n",
       "  <thead>\n",
       "    <tr>\n",
       "      <th></th>\n",
       "      <th colspan=\"3\" halign=\"left\">dayofyear</th>\n",
       "    </tr>\n",
       "    <tr>\n",
       "      <th></th>\n",
       "      <th>yrs_of_data</th>\n",
       "      <th>average_max_date</th>\n",
       "      <th>std_max_date</th>\n",
       "    </tr>\n",
       "    <tr>\n",
       "      <th>crop</th>\n",
       "      <th></th>\n",
       "      <th></th>\n",
       "      <th></th>\n",
       "    </tr>\n",
       "  </thead>\n",
       "  <tbody>\n",
       "    <tr>\n",
       "      <th>alfalfa</th>\n",
       "      <td>42</td>\n",
       "      <td>152.166667</td>\n",
       "      <td>28.381475</td>\n",
       "    </tr>\n",
       "    <tr>\n",
       "      <th>almond</th>\n",
       "      <td>1492</td>\n",
       "      <td>134.136059</td>\n",
       "      <td>30.949120</td>\n",
       "    </tr>\n",
       "  </tbody>\n",
       "</table>\n",
       "</div>"
      ],
      "text/plain": [
       "          dayofyear                              \n",
       "        yrs_of_data average_max_date std_max_date\n",
       "crop                                             \n",
       "alfalfa          42       152.166667    28.381475\n",
       "almond         1492       134.136059    30.949120"
      ]
     },
     "execution_count": 59,
     "metadata": {},
     "output_type": "execute_result"
    }
   ],
   "source": [
    "full_towers_summary_crop =  full_towers.groupby(by=['crop']).agg({'dayofyear': ['count', 'mean', 'std']}).rename(columns={'count': 'yrs_of_data', 'mean': 'average_max_date', 'std':'std_max_date'})\n",
    "full_towers_summary_crop.head(2)"
   ]
  },
  {
   "cell_type": "markdown",
   "metadata": {},
   "source": [
    "### Plotting Average Max Canopy Date with Standard Deviation for each crop"
   ]
  },
  {
   "cell_type": "code",
   "execution_count": 60,
   "metadata": {},
   "outputs": [],
   "source": [
    "# Notes\n",
    "#    3 points average max date, average max date - SD and ave max date + SD\n",
    "#    Into a new data frame.\n",
    "#    Two graphs overlayed\n",
    "#    Y axis Crop, X axis scale from 0 to 365 \n",
    "#    First graph - line graph for each crop max date - SD with a line to the max date + SD\n",
    "#    Same axes and same scale, scatter plot, points are average max date.\n",
    "\n",
    "# Reorganize values of interest into a dataframe for plotting."
   ]
  },
  {
   "cell_type": "code",
   "execution_count": 61,
   "metadata": {},
   "outputs": [],
   "source": [
    "# Create new dataframe for plotting.\n",
    "ave_max_date = full_towers_summary_crop['dayofyear'][['average_max_date']]\n",
    "ave_max_date = ave_max_date['average_max_date']\n",
    "ave_max_date = ave_max_date.reset_index(drop = 'True')\n",
    "s1 = pd.Series(ave_max_date)\n",
    "\n",
    "crop = full_towers_summary_crop['dayofyear'][['std_max_date']]\n",
    "std_max_date = crop['std_max_date']\n",
    "a = std_max_date.reset_index()\n",
    "# std_max_date2 = test.reset_index(drop = 'True')\n",
    "# s2 = pd.Series(std_max_date2)\n",
    "\n",
    "df = pd.concat([a,s1], axis = 1)"
   ]
  },
  {
   "cell_type": "code",
   "execution_count": 71,
   "metadata": {},
   "outputs": [
    {
     "data": {
      "image/png": "[encoded data removed]",
      "text/plain": [
       "<Figure size 1080x720 with 1 Axes>"
      ]
     },
     "metadata": {
      "needs_background": "light"
     },
     "output_type": "display_data"
    }
   ],
   "source": [
    "plt.figure(figsize=(15,10))\n",
    "plt.tight_layout()\n",
    "plt.errorbar(df.average_max_date, df.crop, xerr=df.std_max_date, fmt='o')\n",
    "plt.xlabel(\"Day of Year\")\n",
    "plt.ylabel(\"Crop\")\n",
    "plt.title(\"Average Max Canopy Date by Crop\")\n",
    "plt.grid(True, which = \"both\",linewidth = .5)\n",
    "plt.show()"
   ]
  },
  {
   "cell_type": "code",
   "execution_count": null,
   "metadata": {},
   "outputs": [],
   "source": []
  },
  {
   "cell_type": "code",
   "execution_count": 430,
   "metadata": {},
   "outputs": [],
   "source": [
    "# Build the plot\n",
    "# fig, ax = plt.subplots()\n",
    "# ax.bar(x_pos, df.average_max_date, yerr=df.std_max_date, align='center', alpha=0.5, ecolor='black', capsize=10)\n",
    "# ax.set_ylabel('Crop')\n",
    "# ax.set_xticks(x_pos)\n",
    "# ax.set_xticklabels(df.crop)\n",
    "# ax.set_title('Max Canopy Date Windows')\n",
    "# ax.yaxis.grid(True)\n",
    "\n",
    "# # Save the figure and show\n",
    "# plt.tight_layout()\n",
    "# plt.savefig('bar_plot_with_error_bars.png')\n",
    "# plt.show()"
   ]
  },
  {
   "cell_type": "code",
   "execution_count": null,
   "metadata": {},
   "outputs": [],
   "source": []
  },
  {
   "cell_type": "code",
   "execution_count": null,
   "metadata": {},
   "outputs": [],
   "source": []
  },
  {
   "cell_type": "code",
   "execution_count": null,
   "metadata": {},
   "outputs": [],
   "source": []
  }
 ],
 "metadata": {
  "kernelspec": {
   "display_name": "Python 3",
   "language": "python",
   "name": "python3"
  },
  "language_info": {
   "codemirror_mode": {
    "name": "ipython",
    "version": 3
   },
   "file_extension": ".py",
   "mimetype": "text/x-python",
   "name": "python",
   "nbconvert_exporter": "python",
   "pygments_lexer": "ipython3",
   "version": "3.7.3"
  }
 },
 "nbformat": 4,
 "nbformat_minor": 2
}
