{
 "cells": [
  {
   "cell_type": "code",
   "execution_count": null,
   "metadata": {},
   "outputs": [],
   "source": [
    "# Problem 1:  Some of the facilities charge a fee to members, but some do not.\n",
    "# Please list the names of the facilities that do. \n",
    "\n",
    "SELECT * FROM `Facilities` WHERE membercost = 0\n",
    "\n",
    "# Badminton Court\n",
    "# Table Tennis\n",
    "# Snooker Table\n",
    "# Pool Table"
   ]
  },
  {
   "cell_type": "code",
   "execution_count": null,
   "metadata": {},
   "outputs": [],
   "source": [
    "# Problem 2: How many facilities do not charge a fee to members? \n",
    "\n",
    "SELECT COUNT(*) FROM `Facilities` WHERE membercost = 0\n",
    "\n",
    "# 4"
   ]
  },
  {
   "cell_type": "code",
   "execution_count": null,
   "metadata": {},
   "outputs": [],
   "source": [
    "# Problem 3 How can you produce a list of facilities that charge a fee to members,\n",
    "# where the fee is less than 20% of the facility's monthly maintenance cost?\n",
    "# Return the facid, facility name, member cost, and monthly maintenance of the\n",
    "# facilities in question.\n",
    "\n",
    "SELECT facid,\n",
    "\t   name,\n",
    "       membercost, \n",
    "       monthlymaintenance\n",
    "FROM `Facilities` \n",
    "WHERE membercost < .2 * monthlymaintenance\n",
    "\n",
    "\n",
    "#facid\tname\t      membercost\tmonthlymaintenance\t\n",
    "#0\t  Tennis Court 1\t5.0\t            200\n",
    "#1\t  Tennis Court 2\t5.0\t            200\n",
    "#2\t  Badminton Court\t0.0\t            50\n",
    "#3\t  Table Tennis\t    0.0\t            10\n",
    "#4\t  Massage Room 1\t9.9\t            3000\n",
    "#5\t  Massage Room 2\t9.9\t            3000\n",
    "#6\t  Squash Court\t    3.5\t            80\n",
    "#7\t  Snooker Table\t    0.0          \t15\n",
    "#8\t  Pool Table\t    0.0         \t15\n",
    "\n",
    "# Seems like it is all of them."
   ]
  },
  {
   "cell_type": "code",
   "execution_count": null,
   "metadata": {},
   "outputs": [],
   "source": [
    "# Problem 4 How can you retrieve the details of facilities with ID 1 and 5? \n",
    "# Write the query without using the OR operator.\n",
    "\n",
    "SELECT * FROM `Facilities` WHERE name LIKE '%2'"
   ]
  },
  {
   "cell_type": "code",
   "execution_count": null,
   "metadata": {},
   "outputs": [],
   "source": [
    "# Problem 5 How can you produce a list of facilities, with each labelled as\n",
    "# 'cheap' or 'expensive', depending on if their monthly maintenance cost is\n",
    "# more than $100? Return the name and monthly maintenance of the facilities\n",
    "# in question.\n",
    "\n",
    "\n",
    "SELECT name,\n",
    "       monthlymaintenance,\n",
    "       CASE WHEN monthlymaintenance > 100 THEN 'Expensive'\n",
    "            ELSE 'Cheap' END AS Price_Point\n",
    "    FROM `Facilities`\n",
    "    \n",
    "#name\t       monthlymaintenance\tPrice_Point\t\n",
    "#Tennis Court 1\t  200\t             Expensive\n",
    "#Tennis Court 2\t  200            \t Expensive\n",
    "#Badminton Court  50\t             Cheap\n",
    "#Table Tennis\t  10\t             Cheap\n",
    "#Massage Room 1\t  3000\t             Expensive\n",
    "#Massage Room 2\t  3000\t             Expensive\n",
    "#Squash Court\t  80\t             Cheap\n",
    "#Snooker Table\t  15\t             Cheap\n",
    "#Pool Table\t      15\t             Cheap"
   ]
  },
  {
   "cell_type": "code",
   "execution_count": null,
   "metadata": {},
   "outputs": [],
   "source": [
    "# Problem 6 You'd like to get the first and last name of the last member(s)\n",
    "# who signed up. Do not use the LIMIT clause for your solution.\n",
    "\n",
    "SELECT firstname, surname, joindate FROM `Members` ORDER BY joindate DESC\n",
    "\n",
    "# Probably a way to shorten this..."
   ]
  },
  {
   "cell_type": "code",
   "execution_count": null,
   "metadata": {},
   "outputs": [],
   "source": [
    "# Problem 7 How can you produce a list of all members who have used a tennis court?\n",
    "# Include in your output the name of the court, and the name of the member\n",
    "# formatted as a single column. Ensure no duplicate data, and order by\n",
    "# the member name.\n",
    "\n",
    "SELECT\n",
    "  CONCAT(firstname, \" \", surname) AS member_fullname,\n",
    "  F.name as court_name\n",
    "FROM\n",
    "  `Bookings` B\n",
    "JOIN\n",
    "  `Facilities` F\n",
    "ON\n",
    "  B.facid = F.facid\n",
    "JOIN\n",
    "  `Members` M\n",
    "ON\n",
    "  M.memid = B.memid\n",
    "WHERE\n",
    "  F.name LIKE 'Tennis Court%'\n",
    "GROUP BY 1,2\n",
    "ORDER BY 1"
   ]
  },
  {
   "cell_type": "code",
   "execution_count": null,
   "metadata": {},
   "outputs": [],
   "source": [
    "# Problem 8 How can you produce a list of bookings on the day of 2012-09-14 which \n",
    "# will cost the member (or guest) more than $30? Remember that guests have\n",
    "# different costs to members (the listed costs are per half-hour 'slot'), and\n",
    "# the guest user's ID is always 0. Include in your output the name of the\n",
    "# facility, the name of the member formatted as a single column, and the cost.\n",
    "# Order by descending cost, and do not use any subqueries.\n",
    "\n",
    "SELECT facilities.name, \n",
    "\t   concat(members.firstname, '_', members.surname) as member_name,\n",
    "\t   CASE WHEN members.memid = 0 THEN facilities.guestcost*bookings.slots\n",
    "\t\tELSE facilities.membercost*bookings.slots END AS costs\n",
    "FROM `Bookings` bookings\n",
    "JOIN `Facilities` facilities ON bookings.facid = facilities.facid\n",
    "JOIN `Members` members ON bookings.memid = members.memid\n",
    "WHERE bookings.starttime LIKE '2012-09-14%'\n",
    "HAVING costs > 30\n",
    "ORDER BY costs DESC"
   ]
  },
  {
   "cell_type": "code",
   "execution_count": null,
   "metadata": {},
   "outputs": [],
   "source": [
    "# Problem 9 This time, produce the same result as in Q8, but using a subquery.\n",
    "\n",
    "SELECT facilities.name, \n",
    "\t   concat(members.firstname, '_', members.surname) as member_name,\n",
    "\t   CASE WHEN members.memid = 0 THEN facilities.guestcost*bookings.slots\n",
    "\t\tELSE facilities.membercost*bookings.slots END AS costs\n",
    "FROM (\n",
    "\tSELECT memid, facid, slots FROM `Bookings` WHERE Bookings.starttime LIKE '2012-09-14%'\n",
    "\t ) bookings\n",
    "JOIN `Facilities` facilities ON bookings.facid = facilities.facid\n",
    "JOIN `Members` members ON bookings.memid = members.memid\n",
    "HAVING costs > 30\n",
    "ORDER BY costs DESC"
   ]
  },
  {
   "cell_type": "code",
   "execution_count": null,
   "metadata": {},
   "outputs": [],
   "source": [
    "# Problem 10 Produce a list of facilities with a total revenue less than 1000.\n",
    "# The output of facility name and total revenue, sorted by revenue. Remember\n",
    "# that there's a different cost for guests and members!\n",
    "\n",
    "SELECT facilities.name as facility_name,\n",
    "\t   SUM(CASE WHEN members.memid = 0 THEN facilities.guestcost*bookings.slots \n",
    "\t\tELSE facilities.membercost*bookings.slots END) as revenue\n",
    "FROM `Bookings` bookings\n",
    "JOIN `Facilities` facilities ON bookings.facid = facilities.facid\n",
    "JOIN `Members` members ON bookings.memid = members.memid\n",
    "GROUP BY facilities.name\n",
    "HAVING revenue < 1000\n",
    "ORDER BY revenue"
   ]
  }
 ],
 "metadata": {
  "kernelspec": {
   "display_name": "Python 3",
   "language": "python",
   "name": "python3"
  },
  "language_info": {
   "codemirror_mode": {
    "name": "ipython",
    "version": 3
   },
   "file_extension": ".py",
   "mimetype": "text/x-python",
   "name": "python",
   "nbconvert_exporter": "python",
   "pygments_lexer": "ipython3",
   "version": "3.7.3"
  }
 },
 "nbformat": 4,
 "nbformat_minor": 2
}
