{
 "cells": [
  {
   "cell_type": "code",
   "execution_count": 1,
   "metadata": {},
   "outputs": [],
   "source": [
    "import pandas as pd\n",
    "import matplotlib.pyplot as plt\n",
    "import numpy as np\n",
    "import seaborn as sns"
   ]
  },
  {
   "cell_type": "code",
   "execution_count": 78,
   "metadata": {},
   "outputs": [],
   "source": [
    "towerseasons = pd.read_csv('tower_seasons_2019-11-21.csv')\n",
    "towerweekly = pd.read_csv('tower_weekly_2019-11-22.csv')\n",
    "towers = pd.read_csv('towers_2019-11-21.csv')"
   ]
  },
  {
   "cell_type": "code",
   "execution_count": 79,
   "metadata": {},
   "outputs": [],
   "source": [
    "towerseasons_clean = towerseasons.dropna()\n",
    "towerweekly_clean = towerweekly.dropna().copy()\n",
    "towers_clean = towers.dropna()"
   ]
  },
  {
   "cell_type": "code",
   "execution_count": 41,
   "metadata": {},
   "outputs": [
    {
     "data": {
      "text/html": [
       "<div>\n",
       "<style scoped>\n",
       "    .dataframe tbody tr th:only-of-type {\n",
       "        vertical-align: middle;\n",
       "    }\n",
       "\n",
       "    .dataframe tbody tr th {\n",
       "        vertical-align: top;\n",
       "    }\n",
       "\n",
       "    .dataframe thead th {\n",
       "        text-align: right;\n",
       "    }\n",
       "</style>\n",
       "<table border=\"1\" class=\"dataframe\">\n",
       "  <thead>\n",
       "    <tr style=\"text-align: right;\">\n",
       "      <th></th>\n",
       "      <th>tower_id</th>\n",
       "      <th>year</th>\n",
       "      <th>actual_max_canopy</th>\n",
       "      <th>max_canopy_date</th>\n",
       "    </tr>\n",
       "  </thead>\n",
       "  <tbody>\n",
       "    <tr>\n",
       "      <th>2</th>\n",
       "      <td>3512</td>\n",
       "      <td>2019</td>\n",
       "      <td>0.458826</td>\n",
       "      <td>2019-07-08</td>\n",
       "    </tr>\n",
       "    <tr>\n",
       "      <th>13</th>\n",
       "      <td>825</td>\n",
       "      <td>2019</td>\n",
       "      <td>0.659543</td>\n",
       "      <td>2019-07-01</td>\n",
       "    </tr>\n",
       "  </tbody>\n",
       "</table>\n",
       "</div>"
      ],
      "text/plain": [
       "    tower_id  year  actual_max_canopy max_canopy_date\n",
       "2       3512  2019           0.458826      2019-07-08\n",
       "13       825  2019           0.659543      2019-07-01"
      ]
     },
     "execution_count": 41,
     "metadata": {},
     "output_type": "execute_result"
    }
   ],
   "source": [
    "towerseasons_clean.head(2)"
   ]
  },
  {
   "cell_type": "code",
   "execution_count": 99,
   "metadata": {},
   "outputs": [
    {
     "data": {
      "text/html": [
       "<div>\n",
       "<style scoped>\n",
       "    .dataframe tbody tr th:only-of-type {\n",
       "        vertical-align: middle;\n",
       "    }\n",
       "\n",
       "    .dataframe tbody tr th {\n",
       "        vertical-align: top;\n",
       "    }\n",
       "\n",
       "    .dataframe thead th {\n",
       "        text-align: right;\n",
       "    }\n",
       "</style>\n",
       "<table border=\"1\" class=\"dataframe\">\n",
       "  <thead>\n",
       "    <tr style=\"text-align: right;\">\n",
       "      <th></th>\n",
       "      <th>tower_id</th>\n",
       "      <th>date</th>\n",
       "      <th>irrigation_mm</th>\n",
       "      <th>actual_precip_mm</th>\n",
       "      <th>pri</th>\n",
       "      <th>year</th>\n",
       "    </tr>\n",
       "  </thead>\n",
       "  <tbody>\n",
       "    <tr>\n",
       "      <th>0</th>\n",
       "      <td>10</td>\n",
       "      <td>2019-01-07</td>\n",
       "      <td>0.0</td>\n",
       "      <td>14.204270</td>\n",
       "      <td>1.183220</td>\n",
       "      <td>2019</td>\n",
       "    </tr>\n",
       "    <tr>\n",
       "      <th>1</th>\n",
       "      <td>10</td>\n",
       "      <td>2019-01-14</td>\n",
       "      <td>0.0</td>\n",
       "      <td>85.758867</td>\n",
       "      <td>1.158736</td>\n",
       "      <td>2019</td>\n",
       "    </tr>\n",
       "  </tbody>\n",
       "</table>\n",
       "</div>"
      ],
      "text/plain": [
       "   tower_id        date  irrigation_mm  actual_precip_mm       pri  year\n",
       "0        10  2019-01-07            0.0         14.204270  1.183220  2019\n",
       "1        10  2019-01-14            0.0         85.758867  1.158736  2019"
      ]
     },
     "execution_count": 99,
     "metadata": {},
     "output_type": "execute_result"
    }
   ],
   "source": [
    "towerweekly_clean['year'] = pd.DatetimeIndex(towerweekly_clean['date']).year\n",
    "towerweekly_clean.head(2)"
   ]
  },
  {
   "cell_type": "code",
   "execution_count": null,
   "metadata": {},
   "outputs": [],
   "source": [
    "## Identifying PRI and max canopy values that don't match and filtering them out. Major cleaning step"
   ]
  },
  {
   "cell_type": "code",
   "execution_count": 81,
   "metadata": {},
   "outputs": [
    {
     "data": {
      "text/html": [
       "<div>\n",
       "<style scoped>\n",
       "    .dataframe tbody tr th:only-of-type {\n",
       "        vertical-align: middle;\n",
       "    }\n",
       "\n",
       "    .dataframe tbody tr th {\n",
       "        vertical-align: top;\n",
       "    }\n",
       "\n",
       "    .dataframe thead th {\n",
       "        text-align: right;\n",
       "    }\n",
       "</style>\n",
       "<table border=\"1\" class=\"dataframe\">\n",
       "  <thead>\n",
       "    <tr style=\"text-align: right;\">\n",
       "      <th></th>\n",
       "      <th>year</th>\n",
       "      <th>tower_id</th>\n",
       "      <th>pri</th>\n",
       "    </tr>\n",
       "  </thead>\n",
       "  <tbody>\n",
       "    <tr>\n",
       "      <th>0</th>\n",
       "      <td>2019</td>\n",
       "      <td>10</td>\n",
       "      <td>1.183220</td>\n",
       "    </tr>\n",
       "    <tr>\n",
       "      <th>1</th>\n",
       "      <td>2019</td>\n",
       "      <td>10</td>\n",
       "      <td>1.158736</td>\n",
       "    </tr>\n",
       "    <tr>\n",
       "      <th>2</th>\n",
       "      <td>2019</td>\n",
       "      <td>10</td>\n",
       "      <td>1.063871</td>\n",
       "    </tr>\n",
       "    <tr>\n",
       "      <th>3</th>\n",
       "      <td>2019</td>\n",
       "      <td>10</td>\n",
       "      <td>1.088352</td>\n",
       "    </tr>\n",
       "    <tr>\n",
       "      <th>4</th>\n",
       "      <td>2019</td>\n",
       "      <td>10</td>\n",
       "      <td>1.166881</td>\n",
       "    </tr>\n",
       "  </tbody>\n",
       "</table>\n",
       "</div>"
      ],
      "text/plain": [
       "   year  tower_id       pri\n",
       "0  2019        10  1.183220\n",
       "1  2019        10  1.158736\n",
       "2  2019        10  1.063871\n",
       "3  2019        10  1.088352\n",
       "4  2019        10  1.166881"
      ]
     },
     "execution_count": 81,
     "metadata": {},
     "output_type": "execute_result"
    }
   ],
   "source": [
    "# Step 1 - Narrow down to columns of interest\n",
    "towerweekly_group_pri_clean= towerweekly_clean[['year', 'tower_id', 'pri']]\n",
    "# towerweekly_group_pri_clean.head()"
   ]
  },
  {
   "cell_type": "code",
   "execution_count": null,
   "metadata": {},
   "outputs": [],
   "source": [
    "# Step 2 - Merge previous dataframe with tower_seasons \n",
    "tower_pri_comb = towerseasons_clean.merge(towerweekly_group_pri_clean, on =['tower_id', 'year'])\n",
    "# tower_pri_comb.head()"
   ]
  },
  {
   "cell_type": "code",
   "execution_count": 82,
   "metadata": {},
   "outputs": [
    {
     "data": {
      "text/html": [
       "<div>\n",
       "<style scoped>\n",
       "    .dataframe tbody tr th:only-of-type {\n",
       "        vertical-align: middle;\n",
       "    }\n",
       "\n",
       "    .dataframe tbody tr th {\n",
       "        vertical-align: top;\n",
       "    }\n",
       "\n",
       "    .dataframe thead th {\n",
       "        text-align: right;\n",
       "    }\n",
       "</style>\n",
       "<table border=\"1\" class=\"dataframe\">\n",
       "  <thead>\n",
       "    <tr style=\"text-align: right;\">\n",
       "      <th></th>\n",
       "      <th>tower_id</th>\n",
       "      <th>year</th>\n",
       "      <th>actual_max_canopy</th>\n",
       "      <th>max_canopy_date</th>\n",
       "      <th>pri</th>\n",
       "    </tr>\n",
       "  </thead>\n",
       "  <tbody>\n",
       "    <tr>\n",
       "      <th>0</th>\n",
       "      <td>3512</td>\n",
       "      <td>2019</td>\n",
       "      <td>0.458826</td>\n",
       "      <td>2019-07-08</td>\n",
       "      <td>0.969149</td>\n",
       "    </tr>\n",
       "    <tr>\n",
       "      <th>1</th>\n",
       "      <td>3512</td>\n",
       "      <td>2019</td>\n",
       "      <td>0.458826</td>\n",
       "      <td>2019-07-08</td>\n",
       "      <td>0.923842</td>\n",
       "    </tr>\n",
       "    <tr>\n",
       "      <th>2</th>\n",
       "      <td>3512</td>\n",
       "      <td>2019</td>\n",
       "      <td>0.458826</td>\n",
       "      <td>2019-07-08</td>\n",
       "      <td>0.745649</td>\n",
       "    </tr>\n",
       "    <tr>\n",
       "      <th>3</th>\n",
       "      <td>3512</td>\n",
       "      <td>2019</td>\n",
       "      <td>0.458826</td>\n",
       "      <td>2019-07-08</td>\n",
       "      <td>0.898334</td>\n",
       "    </tr>\n",
       "    <tr>\n",
       "      <th>4</th>\n",
       "      <td>3512</td>\n",
       "      <td>2019</td>\n",
       "      <td>0.458826</td>\n",
       "      <td>2019-07-08</td>\n",
       "      <td>0.988596</td>\n",
       "    </tr>\n",
       "  </tbody>\n",
       "</table>\n",
       "</div>"
      ],
      "text/plain": [
       "   tower_id  year  actual_max_canopy max_canopy_date       pri\n",
       "0      3512  2019           0.458826      2019-07-08  0.969149\n",
       "1      3512  2019           0.458826      2019-07-08  0.923842\n",
       "2      3512  2019           0.458826      2019-07-08  0.745649\n",
       "3      3512  2019           0.458826      2019-07-08  0.898334\n",
       "4      3512  2019           0.458826      2019-07-08  0.988596"
      ]
     },
     "execution_count": 82,
     "metadata": {},
     "output_type": "execute_result"
    }
   ],
   "source": [
    "# Step 3 - Create a new column 'different' which calculates difference between max cnaopy and PRI\n",
    "# Remember we want values that are NOT different aka the difference should equal 0 \n",
    "tower_pri_comb['different'] = tower_pri_comb.actual_max_canopy - tower_pri_comb.pri\n",
    "# tower_pri_comb.head()"
   ]
  },
  {
   "cell_type": "code",
   "execution_count": 84,
   "metadata": {},
   "outputs": [
    {
     "data": {
      "text/plain": [
       "31345"
      ]
     },
     "execution_count": 84,
     "metadata": {},
     "output_type": "execute_result"
    }
   ],
   "source": [
    "# Step 5 - How many cases did NOT equal 0?\n",
    "len(tower_pri_comb[tower_pri_comb['different'] != 0 ])"
   ]
  },
  {
   "cell_type": "code",
   "execution_count": 85,
   "metadata": {},
   "outputs": [
    {
     "data": {
      "text/plain": [
       "594"
      ]
     },
     "execution_count": 85,
     "metadata": {},
     "output_type": "execute_result"
    }
   ],
   "source": [
    "# Step 6 - More importantly, how many cases did equal 0? Almost 600, which is about what we expected.\n",
    "len(tower_pri_comb[tower_pri_comb['different'] == 0 ])"
   ]
  },
  {
   "cell_type": "code",
   "execution_count": 87,
   "metadata": {},
   "outputs": [
    {
     "data": {
      "text/html": [
       "<div>\n",
       "<style scoped>\n",
       "    .dataframe tbody tr th:only-of-type {\n",
       "        vertical-align: middle;\n",
       "    }\n",
       "\n",
       "    .dataframe tbody tr th {\n",
       "        vertical-align: top;\n",
       "    }\n",
       "\n",
       "    .dataframe thead th {\n",
       "        text-align: right;\n",
       "    }\n",
       "</style>\n",
       "<table border=\"1\" class=\"dataframe\">\n",
       "  <thead>\n",
       "    <tr style=\"text-align: right;\">\n",
       "      <th></th>\n",
       "      <th>tower_id</th>\n",
       "      <th>year</th>\n",
       "      <th>actual_max_canopy</th>\n",
       "      <th>max_canopy_date</th>\n",
       "      <th>pri</th>\n",
       "      <th>different</th>\n",
       "    </tr>\n",
       "  </thead>\n",
       "  <tbody>\n",
       "    <tr>\n",
       "      <th>26</th>\n",
       "      <td>3512</td>\n",
       "      <td>2019</td>\n",
       "      <td>0.458826</td>\n",
       "      <td>2019-07-08</td>\n",
       "      <td>0.458826</td>\n",
       "      <td>0.0</td>\n",
       "    </tr>\n",
       "    <tr>\n",
       "      <th>89</th>\n",
       "      <td>2048</td>\n",
       "      <td>2019</td>\n",
       "      <td>0.660164</td>\n",
       "      <td>2019-06-17</td>\n",
       "      <td>0.660164</td>\n",
       "      <td>0.0</td>\n",
       "    </tr>\n",
       "    <tr>\n",
       "      <th>187</th>\n",
       "      <td>832</td>\n",
       "      <td>2019</td>\n",
       "      <td>0.515444</td>\n",
       "      <td>2019-07-08</td>\n",
       "      <td>0.515444</td>\n",
       "      <td>0.0</td>\n",
       "    </tr>\n",
       "    <tr>\n",
       "      <th>205</th>\n",
       "      <td>4230</td>\n",
       "      <td>2019</td>\n",
       "      <td>0.580303</td>\n",
       "      <td>2019-07-08</td>\n",
       "      <td>0.580303</td>\n",
       "      <td>0.0</td>\n",
       "    </tr>\n",
       "    <tr>\n",
       "      <th>319</th>\n",
       "      <td>2305</td>\n",
       "      <td>2019</td>\n",
       "      <td>0.701330</td>\n",
       "      <td>2019-06-10</td>\n",
       "      <td>0.701330</td>\n",
       "      <td>0.0</td>\n",
       "    </tr>\n",
       "  </tbody>\n",
       "</table>\n",
       "</div>"
      ],
      "text/plain": [
       "     tower_id  year  actual_max_canopy max_canopy_date       pri  different\n",
       "26       3512  2019           0.458826      2019-07-08  0.458826        0.0\n",
       "89       2048  2019           0.660164      2019-06-17  0.660164        0.0\n",
       "187       832  2019           0.515444      2019-07-08  0.515444        0.0\n",
       "205      4230  2019           0.580303      2019-07-08  0.580303        0.0\n",
       "319      2305  2019           0.701330      2019-06-10  0.701330        0.0"
      ]
     },
     "execution_count": 87,
     "metadata": {},
     "output_type": "execute_result"
    }
   ],
   "source": [
    "# Step 7 - This is your new dataframe \n",
    "trimmed_tower_weekly = tower_pri_comb[tower_pri_comb['different'] == 0 ].copy()\n",
    "trimmed_tower_weekly.head()"
   ]
  },
  {
   "cell_type": "code",
   "execution_count": 114,
   "metadata": {},
   "outputs": [
    {
     "data": {
      "text/plain": [
       "594"
      ]
     },
     "execution_count": 114,
     "metadata": {},
     "output_type": "execute_result"
    }
   ],
   "source": [
    "# Step 8 - Do the same exact thing but add the other variables back in.\n",
    "# Not deleting previous one because of paranoia and fear of losing it.\n",
    "towerweekly_group_pri_clean_complete = towerweekly_clean[['year', 'tower_id', 'pri', 'irrigation_mm', 'actual_precip_mm', 'date']]\n",
    "tower_pri_comb_complete = towerseasons_clean.merge(towerweekly_group_pri_clean_complete, on =['tower_id', 'year'])\n",
    "tower_pri_comb_complete['different'] = tower_pri_comb_complete.actual_max_canopy - tower_pri_comb_complete.pri\n",
    "len(tower_pri_comb_complete[tower_pri_comb_complete['different'] != 0 ])\n",
    "len(tower_pri_comb_complete[tower_pri_comb_complete['different'] == 0 ])\n",
    "trimmed_tower_weekly_complete = tower_pri_comb_complete[tower_pri_comb_complete['different'] == 0 ].copy()\n",
    "trimmed_tower_weekly.head()\n",
    "len(trimmed_tower_weekly)"
   ]
  },
  {
   "cell_type": "code",
   "execution_count": 88,
   "metadata": {},
   "outputs": [
    {
     "data": {
      "text/html": [
       "<div>\n",
       "<style scoped>\n",
       "    .dataframe tbody tr th:only-of-type {\n",
       "        vertical-align: middle;\n",
       "    }\n",
       "\n",
       "    .dataframe tbody tr th {\n",
       "        vertical-align: top;\n",
       "    }\n",
       "\n",
       "    .dataframe thead th {\n",
       "        text-align: right;\n",
       "    }\n",
       "</style>\n",
       "<table border=\"1\" class=\"dataframe\">\n",
       "  <thead>\n",
       "    <tr style=\"text-align: right;\">\n",
       "      <th></th>\n",
       "      <th></th>\n",
       "      <th>actual_max_canopy</th>\n",
       "      <th>pri</th>\n",
       "      <th>different</th>\n",
       "    </tr>\n",
       "    <tr>\n",
       "      <th>year</th>\n",
       "      <th>tower_id</th>\n",
       "      <th></th>\n",
       "      <th></th>\n",
       "      <th></th>\n",
       "    </tr>\n",
       "  </thead>\n",
       "  <tbody>\n",
       "    <tr>\n",
       "      <th rowspan=\"5\" valign=\"top\">2019</th>\n",
       "      <th>10</th>\n",
       "      <td>0.500498</td>\n",
       "      <td>0.500498</td>\n",
       "      <td>0.0</td>\n",
       "    </tr>\n",
       "    <tr>\n",
       "      <th>18</th>\n",
       "      <td>0.768882</td>\n",
       "      <td>0.768882</td>\n",
       "      <td>0.0</td>\n",
       "    </tr>\n",
       "    <tr>\n",
       "      <th>20</th>\n",
       "      <td>0.813847</td>\n",
       "      <td>0.813847</td>\n",
       "      <td>0.0</td>\n",
       "    </tr>\n",
       "    <tr>\n",
       "      <th>21</th>\n",
       "      <td>0.559340</td>\n",
       "      <td>0.559340</td>\n",
       "      <td>0.0</td>\n",
       "    </tr>\n",
       "    <tr>\n",
       "      <th>27</th>\n",
       "      <td>0.693847</td>\n",
       "      <td>0.693847</td>\n",
       "      <td>0.0</td>\n",
       "    </tr>\n",
       "  </tbody>\n",
       "</table>\n",
       "</div>"
      ],
      "text/plain": [
       "               actual_max_canopy       pri  different\n",
       "year tower_id                                        \n",
       "2019 10                 0.500498  0.500498        0.0\n",
       "     18                 0.768882  0.768882        0.0\n",
       "     20                 0.813847  0.813847        0.0\n",
       "     21                 0.559340  0.559340        0.0\n",
       "     27                 0.693847  0.693847        0.0"
      ]
     },
     "execution_count": 88,
     "metadata": {},
     "output_type": "execute_result"
    }
   ],
   "source": [
    "# Groupby statement for relevant stats\n",
    "towerweekly_group = trimmed_tower_weekly.groupby(['year', 'tower_id']).mean()\n",
    "towerweekly_group.head()"
   ]
  },
  {
   "cell_type": "code",
   "execution_count": null,
   "metadata": {},
   "outputs": [],
   "source": []
  },
  {
   "cell_type": "code",
   "execution_count": null,
   "metadata": {},
   "outputs": [],
   "source": [
    "# Lets merge our data to create one dataframe"
   ]
  },
  {
   "cell_type": "code",
   "execution_count": 115,
   "metadata": {},
   "outputs": [
    {
     "name": "stdout",
     "output_type": "stream",
     "text": [
      "Towers dimensions: (594, 9)\n",
      "Towers Weekly: (4361, 4)\n",
      "Towers Seasonal: (1242, 11)\n"
     ]
    }
   ],
   "source": [
    "print(\"Towers dimensions: {}\".format(trimmed_tower_weekly_complete.shape))\n",
    "print(\"Towers Weekly: {}\".format(towerseasons_clean.shape))\n",
    "print(\"Towers Seasonal: {}\".format(towers_clean.shape))"
   ]
  },
  {
   "cell_type": "code",
   "execution_count": 90,
   "metadata": {},
   "outputs": [
    {
     "data": {
      "text/html": [
       "<div>\n",
       "<style scoped>\n",
       "    .dataframe tbody tr th:only-of-type {\n",
       "        vertical-align: middle;\n",
       "    }\n",
       "\n",
       "    .dataframe tbody tr th {\n",
       "        vertical-align: top;\n",
       "    }\n",
       "\n",
       "    .dataframe thead th {\n",
       "        text-align: right;\n",
       "    }\n",
       "</style>\n",
       "<table border=\"1\" class=\"dataframe\">\n",
       "  <thead>\n",
       "    <tr style=\"text-align: right;\">\n",
       "      <th></th>\n",
       "      <th>tower_id</th>\n",
       "      <th>year</th>\n",
       "      <th>actual_max_canopy</th>\n",
       "      <th>max_canopy_date</th>\n",
       "      <th>pri</th>\n",
       "      <th>different</th>\n",
       "    </tr>\n",
       "  </thead>\n",
       "  <tbody>\n",
       "    <tr>\n",
       "      <th>26</th>\n",
       "      <td>3512</td>\n",
       "      <td>2019</td>\n",
       "      <td>0.458826</td>\n",
       "      <td>2019-07-08</td>\n",
       "      <td>0.458826</td>\n",
       "      <td>0.0</td>\n",
       "    </tr>\n",
       "    <tr>\n",
       "      <th>89</th>\n",
       "      <td>2048</td>\n",
       "      <td>2019</td>\n",
       "      <td>0.660164</td>\n",
       "      <td>2019-06-17</td>\n",
       "      <td>0.660164</td>\n",
       "      <td>0.0</td>\n",
       "    </tr>\n",
       "  </tbody>\n",
       "</table>\n",
       "</div>"
      ],
      "text/plain": [
       "    tower_id  year  actual_max_canopy max_canopy_date       pri  different\n",
       "26      3512  2019           0.458826      2019-07-08  0.458826        0.0\n",
       "89      2048  2019           0.660164      2019-06-17  0.660164        0.0"
      ]
     },
     "execution_count": 90,
     "metadata": {},
     "output_type": "execute_result"
    }
   ],
   "source": [
    "trimmed_tower_weekly_complete.head(2)"
   ]
  },
  {
   "cell_type": "code",
   "execution_count": 116,
   "metadata": {},
   "outputs": [
    {
     "name": "stdout",
     "output_type": "stream",
     "text": [
      "Towers Seasonal: (377, 19)\n"
     ]
    }
   ],
   "source": [
    "# Merge previous table with towers on tower_id\n",
    "# Is a fairly small data frame. Something to consider. \n",
    "final_table = pd.merge(trimmed_tower_weekly_complete, towers_clean, on = 'tower_id')\n",
    "print(\"Towers Seasonal: {}\".format(final_table.shape))"
   ]
  },
  {
   "cell_type": "code",
   "execution_count": 117,
   "metadata": {},
   "outputs": [
    {
     "data": {
      "text/html": [
       "<div>\n",
       "<style scoped>\n",
       "    .dataframe tbody tr th:only-of-type {\n",
       "        vertical-align: middle;\n",
       "    }\n",
       "\n",
       "    .dataframe tbody tr th {\n",
       "        vertical-align: top;\n",
       "    }\n",
       "\n",
       "    .dataframe thead th {\n",
       "        text-align: right;\n",
       "    }\n",
       "</style>\n",
       "<table border=\"1\" class=\"dataframe\">\n",
       "  <thead>\n",
       "    <tr style=\"text-align: right;\">\n",
       "      <th></th>\n",
       "      <th>tower_id</th>\n",
       "      <th>year</th>\n",
       "      <th>actual_max_canopy</th>\n",
       "      <th>max_canopy_date</th>\n",
       "      <th>pri</th>\n",
       "      <th>irrigation_mm</th>\n",
       "      <th>actual_precip_mm</th>\n",
       "      <th>date</th>\n",
       "      <th>different</th>\n",
       "      <th>crop</th>\n",
       "      <th>metacrop</th>\n",
       "      <th>betweenrowft</th>\n",
       "      <th>slope</th>\n",
       "      <th>aspect</th>\n",
       "      <th>region</th>\n",
       "      <th>subregion</th>\n",
       "      <th>installed_at</th>\n",
       "      <th>young_plant</th>\n",
       "      <th>trellis_type</th>\n",
       "    </tr>\n",
       "  </thead>\n",
       "  <tbody>\n",
       "    <tr>\n",
       "      <th>0</th>\n",
       "      <td>3512</td>\n",
       "      <td>2019</td>\n",
       "      <td>0.458826</td>\n",
       "      <td>2019-07-08</td>\n",
       "      <td>0.458826</td>\n",
       "      <td>0.000000</td>\n",
       "      <td>0.0</td>\n",
       "      <td>2019-07-08</td>\n",
       "      <td>0.0</td>\n",
       "      <td>grape</td>\n",
       "      <td>vine</td>\n",
       "      <td>7.0</td>\n",
       "      <td>2</td>\n",
       "      <td>198</td>\n",
       "      <td>NCoast</td>\n",
       "      <td>carneros</td>\n",
       "      <td>2018-06-07 22:24:00</td>\n",
       "      <td>False</td>\n",
       "      <td>quad</td>\n",
       "    </tr>\n",
       "    <tr>\n",
       "      <th>1</th>\n",
       "      <td>2048</td>\n",
       "      <td>2019</td>\n",
       "      <td>0.660164</td>\n",
       "      <td>2019-06-17</td>\n",
       "      <td>0.660164</td>\n",
       "      <td>2.020265</td>\n",
       "      <td>0.0</td>\n",
       "      <td>2019-06-17</td>\n",
       "      <td>0.0</td>\n",
       "      <td>grape</td>\n",
       "      <td>vine</td>\n",
       "      <td>8.0</td>\n",
       "      <td>1</td>\n",
       "      <td>206</td>\n",
       "      <td>CCoast</td>\n",
       "      <td>pasorobles</td>\n",
       "      <td>2017-03-09 19:09:41</td>\n",
       "      <td>True</td>\n",
       "      <td>vsp</td>\n",
       "    </tr>\n",
       "    <tr>\n",
       "      <th>2</th>\n",
       "      <td>832</td>\n",
       "      <td>2019</td>\n",
       "      <td>0.515444</td>\n",
       "      <td>2019-07-08</td>\n",
       "      <td>0.515444</td>\n",
       "      <td>0.000000</td>\n",
       "      <td>0.0</td>\n",
       "      <td>2019-07-08</td>\n",
       "      <td>0.0</td>\n",
       "      <td>grape</td>\n",
       "      <td>vine</td>\n",
       "      <td>8.0</td>\n",
       "      <td>2</td>\n",
       "      <td>190</td>\n",
       "      <td>NCoast</td>\n",
       "      <td>carneros</td>\n",
       "      <td>2016-03-03 00:25:00</td>\n",
       "      <td>False</td>\n",
       "      <td>vsp</td>\n",
       "    </tr>\n",
       "    <tr>\n",
       "      <th>3</th>\n",
       "      <td>4230</td>\n",
       "      <td>2019</td>\n",
       "      <td>0.580303</td>\n",
       "      <td>2019-07-08</td>\n",
       "      <td>0.580303</td>\n",
       "      <td>6.047731</td>\n",
       "      <td>0.0</td>\n",
       "      <td>2019-07-08</td>\n",
       "      <td>0.0</td>\n",
       "      <td>grape</td>\n",
       "      <td>vine</td>\n",
       "      <td>8.0</td>\n",
       "      <td>10</td>\n",
       "      <td>335</td>\n",
       "      <td>NCoast</td>\n",
       "      <td>carneros</td>\n",
       "      <td>2019-04-19 18:47:10</td>\n",
       "      <td>False</td>\n",
       "      <td>vsp</td>\n",
       "    </tr>\n",
       "    <tr>\n",
       "      <th>4</th>\n",
       "      <td>2305</td>\n",
       "      <td>2019</td>\n",
       "      <td>0.701330</td>\n",
       "      <td>2019-06-10</td>\n",
       "      <td>0.701330</td>\n",
       "      <td>0.000000</td>\n",
       "      <td>0.0</td>\n",
       "      <td>2019-06-10</td>\n",
       "      <td>0.0</td>\n",
       "      <td>grape</td>\n",
       "      <td>vine</td>\n",
       "      <td>9.0</td>\n",
       "      <td>1</td>\n",
       "      <td>225</td>\n",
       "      <td>CCoast</td>\n",
       "      <td>pasorobles</td>\n",
       "      <td>2017-04-26 22:30:47</td>\n",
       "      <td>True</td>\n",
       "      <td>vsp</td>\n",
       "    </tr>\n",
       "  </tbody>\n",
       "</table>\n",
       "</div>"
      ],
      "text/plain": [
       "   tower_id  year  actual_max_canopy max_canopy_date       pri  irrigation_mm  \\\n",
       "0      3512  2019           0.458826      2019-07-08  0.458826       0.000000   \n",
       "1      2048  2019           0.660164      2019-06-17  0.660164       2.020265   \n",
       "2       832  2019           0.515444      2019-07-08  0.515444       0.000000   \n",
       "3      4230  2019           0.580303      2019-07-08  0.580303       6.047731   \n",
       "4      2305  2019           0.701330      2019-06-10  0.701330       0.000000   \n",
       "\n",
       "   actual_precip_mm        date  different   crop metacrop  betweenrowft  \\\n",
       "0               0.0  2019-07-08        0.0  grape     vine           7.0   \n",
       "1               0.0  2019-06-17        0.0  grape     vine           8.0   \n",
       "2               0.0  2019-07-08        0.0  grape     vine           8.0   \n",
       "3               0.0  2019-07-08        0.0  grape     vine           8.0   \n",
       "4               0.0  2019-06-10        0.0  grape     vine           9.0   \n",
       "\n",
       "   slope  aspect  region   subregion         installed_at young_plant  \\\n",
       "0      2     198  NCoast    carneros  2018-06-07 22:24:00       False   \n",
       "1      1     206  CCoast  pasorobles  2017-03-09 19:09:41        True   \n",
       "2      2     190  NCoast    carneros  2016-03-03 00:25:00       False   \n",
       "3     10     335  NCoast    carneros  2019-04-19 18:47:10       False   \n",
       "4      1     225  CCoast  pasorobles  2017-04-26 22:30:47        True   \n",
       "\n",
       "  trellis_type  \n",
       "0         quad  \n",
       "1          vsp  \n",
       "2          vsp  \n",
       "3          vsp  \n",
       "4          vsp  "
      ]
     },
     "execution_count": 117,
     "metadata": {},
     "output_type": "execute_result"
    }
   ],
   "source": [
    "final_table.head()"
   ]
  },
  {
   "cell_type": "code",
   "execution_count": null,
   "metadata": {},
   "outputs": [],
   "source": []
  },
  {
   "cell_type": "code",
   "execution_count": null,
   "metadata": {},
   "outputs": [],
   "source": []
  },
  {
   "cell_type": "code",
   "execution_count": null,
   "metadata": {},
   "outputs": [],
   "source": []
  }
 ],
 "metadata": {
  "kernelspec": {
   "display_name": "Python 3",
   "language": "python",
   "name": "python3"
  },
  "language_info": {
   "codemirror_mode": {
    "name": "ipython",
    "version": 3
   },
   "file_extension": ".py",
   "mimetype": "text/x-python",
   "name": "python",
   "nbconvert_exporter": "python",
   "pygments_lexer": "ipython3",
   "version": "3.7.3"
  }
 },
 "nbformat": 4,
 "nbformat_minor": 2
}
