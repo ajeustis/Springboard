{
 "cells": [
  {
   "cell_type": "code",
   "execution_count": 166,
   "metadata": {},
   "outputs": [],
   "source": [
    "import pandas as pd\n",
    "import matplotlib.pyplot as plt\n",
    "import numpy as np\n",
    "import seaborn as sns"
   ]
  },
  {
   "cell_type": "code",
   "execution_count": 2,
   "metadata": {},
   "outputs": [],
   "source": []
  },
  {
   "cell_type": "markdown",
   "metadata": {},
   "source": [
    "# Towers"
   ]
  },
  {
   "cell_type": "code",
   "execution_count": 261,
   "metadata": {},
   "outputs": [
    {
     "data": {
      "text/html": [
       "<div>\n",
       "<style scoped>\n",
       "    .dataframe tbody tr th:only-of-type {\n",
       "        vertical-align: middle;\n",
       "    }\n",
       "\n",
       "    .dataframe tbody tr th {\n",
       "        vertical-align: top;\n",
       "    }\n",
       "\n",
       "    .dataframe thead th {\n",
       "        text-align: right;\n",
       "    }\n",
       "</style>\n",
       "<table border=\"1\" class=\"dataframe\">\n",
       "  <thead>\n",
       "    <tr style=\"text-align: right;\">\n",
       "      <th></th>\n",
       "      <th>tower_id</th>\n",
       "      <th>crop</th>\n",
       "      <th>metacrop</th>\n",
       "      <th>betweenrowft</th>\n",
       "      <th>slope</th>\n",
       "      <th>aspect</th>\n",
       "      <th>region</th>\n",
       "      <th>subregion</th>\n",
       "      <th>installed_at</th>\n",
       "      <th>young_plant</th>\n",
       "      <th>trellis_type</th>\n",
       "    </tr>\n",
       "  </thead>\n",
       "  <tbody>\n",
       "    <tr>\n",
       "      <th>0</th>\n",
       "      <td>4068</td>\n",
       "      <td>grape</td>\n",
       "      <td>vine</td>\n",
       "      <td>5.0</td>\n",
       "      <td>4</td>\n",
       "      <td>85</td>\n",
       "      <td>NCoast</td>\n",
       "      <td>napa</td>\n",
       "      <td>2019-04-03 18:42:35</td>\n",
       "      <td>True</td>\n",
       "      <td>vsp</td>\n",
       "    </tr>\n",
       "    <tr>\n",
       "      <th>1</th>\n",
       "      <td>3490</td>\n",
       "      <td>grape</td>\n",
       "      <td>vine</td>\n",
       "      <td>8.0</td>\n",
       "      <td>0</td>\n",
       "      <td>297</td>\n",
       "      <td>NCoast</td>\n",
       "      <td>napa</td>\n",
       "      <td>2018-04-19 22:57:42</td>\n",
       "      <td>False</td>\n",
       "      <td>vsp</td>\n",
       "    </tr>\n",
       "    <tr>\n",
       "      <th>2</th>\n",
       "      <td>1297</td>\n",
       "      <td>grape</td>\n",
       "      <td>vine</td>\n",
       "      <td>10.0</td>\n",
       "      <td>1</td>\n",
       "      <td>252</td>\n",
       "      <td>NCoast</td>\n",
       "      <td>napa</td>\n",
       "      <td>2016-05-20 19:16:29</td>\n",
       "      <td>False</td>\n",
       "      <td>lyre</td>\n",
       "    </tr>\n",
       "    <tr>\n",
       "      <th>3</th>\n",
       "      <td>61</td>\n",
       "      <td>grape</td>\n",
       "      <td>vine</td>\n",
       "      <td>7.0</td>\n",
       "      <td>0</td>\n",
       "      <td>0</td>\n",
       "      <td>NCoast</td>\n",
       "      <td>napa</td>\n",
       "      <td>2014-04-30 04:00:00</td>\n",
       "      <td>False</td>\n",
       "      <td>vsp</td>\n",
       "    </tr>\n",
       "    <tr>\n",
       "      <th>4</th>\n",
       "      <td>20</td>\n",
       "      <td>grape</td>\n",
       "      <td>vine</td>\n",
       "      <td>8.0</td>\n",
       "      <td>0</td>\n",
       "      <td>0</td>\n",
       "      <td>NCoast</td>\n",
       "      <td>napa</td>\n",
       "      <td>2014-04-21 04:00:00</td>\n",
       "      <td>False</td>\n",
       "      <td>lyre</td>\n",
       "    </tr>\n",
       "  </tbody>\n",
       "</table>\n",
       "</div>"
      ],
      "text/plain": [
       "   tower_id   crop metacrop  betweenrowft  slope  aspect  region subregion  \\\n",
       "0      4068  grape     vine           5.0      4      85  NCoast      napa   \n",
       "1      3490  grape     vine           8.0      0     297  NCoast      napa   \n",
       "2      1297  grape     vine          10.0      1     252  NCoast      napa   \n",
       "3        61  grape     vine           7.0      0       0  NCoast      napa   \n",
       "4        20  grape     vine           8.0      0       0  NCoast      napa   \n",
       "\n",
       "          installed_at young_plant trellis_type  \n",
       "0  2019-04-03 18:42:35        True          vsp  \n",
       "1  2018-04-19 22:57:42       False          vsp  \n",
       "2  2016-05-20 19:16:29       False         lyre  \n",
       "3  2014-04-30 04:00:00       False          vsp  \n",
       "4  2014-04-21 04:00:00       False         lyre  "
      ]
     },
     "execution_count": 261,
     "metadata": {},
     "output_type": "execute_result"
    }
   ],
   "source": [
    "data3.head()"
   ]
  },
  {
   "cell_type": "code",
   "execution_count": 98,
   "metadata": {},
   "outputs": [
    {
     "data": {
      "text/plain": [
       "pandas.core.series.Series"
      ]
     },
     "execution_count": 98,
     "metadata": {},
     "output_type": "execute_result"
    }
   ],
   "source": [
    "data3.clean = data3.dropna()\n",
    "data3.shape # (1811, 11)\n",
    "#data3.crop.value_counts()"
   ]
  },
  {
   "cell_type": "markdown",
   "metadata": {},
   "source": [
    "# Tower Weekly "
   ]
  },
  {
   "cell_type": "code",
   "execution_count": 129,
   "metadata": {},
   "outputs": [
    {
     "data": {
      "text/html": [
       "<div>\n",
       "<style scoped>\n",
       "    .dataframe tbody tr th:only-of-type {\n",
       "        vertical-align: middle;\n",
       "    }\n",
       "\n",
       "    .dataframe tbody tr th {\n",
       "        vertical-align: top;\n",
       "    }\n",
       "\n",
       "    .dataframe thead th {\n",
       "        text-align: right;\n",
       "    }\n",
       "</style>\n",
       "<table border=\"1\" class=\"dataframe\">\n",
       "  <thead>\n",
       "    <tr style=\"text-align: right;\">\n",
       "      <th></th>\n",
       "      <th>tower_id</th>\n",
       "      <th>date</th>\n",
       "      <th>irrigation_mm</th>\n",
       "      <th>actual_precip_mm</th>\n",
       "      <th>pri</th>\n",
       "    </tr>\n",
       "  </thead>\n",
       "  <tbody>\n",
       "    <tr>\n",
       "      <th>0</th>\n",
       "      <td>10</td>\n",
       "      <td>2019-01-07</td>\n",
       "      <td>0.0</td>\n",
       "      <td>14.204270</td>\n",
       "      <td>1.183220</td>\n",
       "    </tr>\n",
       "    <tr>\n",
       "      <th>1</th>\n",
       "      <td>10</td>\n",
       "      <td>2019-01-14</td>\n",
       "      <td>0.0</td>\n",
       "      <td>85.758867</td>\n",
       "      <td>1.158736</td>\n",
       "    </tr>\n",
       "    <tr>\n",
       "      <th>2</th>\n",
       "      <td>10</td>\n",
       "      <td>2019-01-21</td>\n",
       "      <td>0.0</td>\n",
       "      <td>0.000000</td>\n",
       "      <td>1.063871</td>\n",
       "    </tr>\n",
       "    <tr>\n",
       "      <th>3</th>\n",
       "      <td>10</td>\n",
       "      <td>2019-01-28</td>\n",
       "      <td>0.0</td>\n",
       "      <td>43.022252</td>\n",
       "      <td>1.088352</td>\n",
       "    </tr>\n",
       "    <tr>\n",
       "      <th>4</th>\n",
       "      <td>10</td>\n",
       "      <td>2019-02-04</td>\n",
       "      <td>0.0</td>\n",
       "      <td>19.813417</td>\n",
       "      <td>1.166881</td>\n",
       "    </tr>\n",
       "  </tbody>\n",
       "</table>\n",
       "</div>"
      ],
      "text/plain": [
       "   tower_id        date  irrigation_mm  actual_precip_mm       pri\n",
       "0        10  2019-01-07            0.0         14.204270  1.183220\n",
       "1        10  2019-01-14            0.0         85.758867  1.158736\n",
       "2        10  2019-01-21            0.0          0.000000  1.063871\n",
       "3        10  2019-01-28            0.0         43.022252  1.088352\n",
       "4        10  2019-02-04            0.0         19.813417  1.166881"
      ]
     },
     "execution_count": 129,
     "metadata": {},
     "output_type": "execute_result"
    }
   ],
   "source": [
    "data2.head()\n",
    "# data2.clean = data2.dropna()\n",
    "# data2.clean.shape # (34056, 5)\n",
    "# data2.shape # (34086, 5)\n",
    "# data2.clean.describe()"
   ]
  },
  {
   "cell_type": "code",
   "execution_count": 119,
   "metadata": {},
   "outputs": [
    {
     "data": {
      "image/png": "[encoded data removed]",
      "text/plain": [
       "<Figure size 432x288 with 1 Axes>"
      ]
     },
     "metadata": {
      "needs_background": "light"
     },
     "output_type": "display_data"
    }
   ],
   "source": [
    "# PRI\n",
    "#data2.clean.pri.describe() # mean 0.817394, std 0.243794, min -0.707035, max = 18.372065\n",
    "plt.hist(data2.clean.pri)\n",
    "plt.show()"
   ]
  },
  {
   "cell_type": "code",
   "execution_count": 217,
   "metadata": {},
   "outputs": [
    {
     "data": {
      "image/png": "[encoded data removed]",
      "text/plain": [
       "<Figure size 432x288 with 1 Axes>"
      ]
     },
     "metadata": {
      "needs_background": "light"
     },
     "output_type": "display_data"
    }
   ],
   "source": [
    "# Actual Precip\n",
    "# data2.clean.actual_precip_mm.describe()\n",
    "plt.hist(data2.actual_precip_mm)\n",
    "plt.show()\n",
    "# plt.hist(data2.irrigation_mm, bins=30)"
   ]
  },
  {
   "cell_type": "code",
   "execution_count": 264,
   "metadata": {},
   "outputs": [
    {
     "data": {
      "image/png": "[encoded data removed]",
      "text/plain": [
       "<Figure size 432x288 with 1 Axes>"
      ]
     },
     "metadata": {
      "needs_background": "light"
     },
     "output_type": "display_data"
    }
   ],
   "source": [
    "# Pri vs actual precip\n",
    "pri = data2.clean['pri']\n",
    "precip = data2.clean['actual_precip_mm']\n",
    "plt.scatter(precip,pri, edgecolors='r')\n",
    "plt.xlabel('PRI')\n",
    "plt.ylabel('Precip')\n",
    "plt.show()\n",
    "# Pretty uniform with a couple outliers. "
   ]
  },
  {
   "cell_type": "code",
   "execution_count": 273,
   "metadata": {
    "scrolled": true
   },
   "outputs": [
    {
     "data": {
      "text/html": [
       "<div>\n",
       "<style scoped>\n",
       "    .dataframe tbody tr th:only-of-type {\n",
       "        vertical-align: middle;\n",
       "    }\n",
       "\n",
       "    .dataframe tbody tr th {\n",
       "        vertical-align: top;\n",
       "    }\n",
       "\n",
       "    .dataframe thead th {\n",
       "        text-align: right;\n",
       "    }\n",
       "</style>\n",
       "<table border=\"1\" class=\"dataframe\">\n",
       "  <thead>\n",
       "    <tr style=\"text-align: right;\">\n",
       "      <th></th>\n",
       "      <th>tower_id</th>\n",
       "      <th>irrigation_mm</th>\n",
       "      <th>actual_precip_mm</th>\n",
       "      <th>pri</th>\n",
       "    </tr>\n",
       "    <tr>\n",
       "      <th>dates_parsed</th>\n",
       "      <th></th>\n",
       "      <th></th>\n",
       "      <th></th>\n",
       "      <th></th>\n",
       "    </tr>\n",
       "  </thead>\n",
       "  <tbody>\n",
       "    <tr>\n",
       "      <th>2019-01-07</th>\n",
       "      <td>1864.635809</td>\n",
       "      <td>0.682563</td>\n",
       "      <td>24.365597</td>\n",
       "      <td>0.826350</td>\n",
       "    </tr>\n",
       "    <tr>\n",
       "      <th>2019-01-14</th>\n",
       "      <td>1866.777439</td>\n",
       "      <td>1.138889</td>\n",
       "      <td>82.990789</td>\n",
       "      <td>0.916570</td>\n",
       "    </tr>\n",
       "    <tr>\n",
       "      <th>2019-01-21</th>\n",
       "      <td>1866.520940</td>\n",
       "      <td>0.652466</td>\n",
       "      <td>0.130860</td>\n",
       "      <td>0.781449</td>\n",
       "    </tr>\n",
       "    <tr>\n",
       "      <th>2019-01-28</th>\n",
       "      <td>1892.129328</td>\n",
       "      <td>1.034218</td>\n",
       "      <td>58.801363</td>\n",
       "      <td>0.925933</td>\n",
       "    </tr>\n",
       "    <tr>\n",
       "      <th>2019-02-04</th>\n",
       "      <td>1903.887210</td>\n",
       "      <td>2.029482</td>\n",
       "      <td>28.717888</td>\n",
       "      <td>0.938819</td>\n",
       "    </tr>\n",
       "  </tbody>\n",
       "</table>\n",
       "</div>"
      ],
      "text/plain": [
       "                 tower_id  irrigation_mm  actual_precip_mm       pri\n",
       "dates_parsed                                                        \n",
       "2019-01-07    1864.635809       0.682563         24.365597  0.826350\n",
       "2019-01-14    1866.777439       1.138889         82.990789  0.916570\n",
       "2019-01-21    1866.520940       0.652466          0.130860  0.781449\n",
       "2019-01-28    1892.129328       1.034218         58.801363  0.925933\n",
       "2019-02-04    1903.887210       2.029482         28.717888  0.938819"
      ]
     },
     "execution_count": 273,
     "metadata": {},
     "output_type": "execute_result"
    }
   ],
   "source": [
    "grouped_data2 = data2.clean.groupby(['dates_parsed']).mean()\n",
    "grouped_data2.head()\n",
    "#grouped_data2.plot()\n",
    "#plt.ylim(0,20)\n",
    "#data2.clean['dates_parsed'] = pd.to_datetime(data2.clean['date'], format = \"%Y-%m-%d\")\n",
    "#data2.clean.head()"
   ]
  },
  {
   "cell_type": "markdown",
   "metadata": {},
   "source": [
    "# Tower Seasons "
   ]
  },
  {
   "cell_type": "code",
   "execution_count": 86,
   "metadata": {},
   "outputs": [
    {
     "data": {
      "text/html": [
       "<div>\n",
       "<style scoped>\n",
       "    .dataframe tbody tr th:only-of-type {\n",
       "        vertical-align: middle;\n",
       "    }\n",
       "\n",
       "    .dataframe tbody tr th {\n",
       "        vertical-align: top;\n",
       "    }\n",
       "\n",
       "    .dataframe thead th {\n",
       "        text-align: right;\n",
       "    }\n",
       "</style>\n",
       "<table border=\"1\" class=\"dataframe\">\n",
       "  <thead>\n",
       "    <tr style=\"text-align: right;\">\n",
       "      <th></th>\n",
       "      <th>tower_id</th>\n",
       "      <th>year</th>\n",
       "      <th>actual_max_canopy</th>\n",
       "      <th>max_canopy_date</th>\n",
       "    </tr>\n",
       "  </thead>\n",
       "  <tbody>\n",
       "    <tr>\n",
       "      <th>0</th>\n",
       "      <td>5562</td>\n",
       "      <td>2011</td>\n",
       "      <td>NaN</td>\n",
       "      <td>2011-06-22</td>\n",
       "    </tr>\n",
       "    <tr>\n",
       "      <th>1</th>\n",
       "      <td>4151</td>\n",
       "      <td>2020</td>\n",
       "      <td>NaN</td>\n",
       "      <td>NaN</td>\n",
       "    </tr>\n",
       "    <tr>\n",
       "      <th>2</th>\n",
       "      <td>3512</td>\n",
       "      <td>2019</td>\n",
       "      <td>0.458826</td>\n",
       "      <td>2019-07-08</td>\n",
       "    </tr>\n",
       "    <tr>\n",
       "      <th>3</th>\n",
       "      <td>2272</td>\n",
       "      <td>2019</td>\n",
       "      <td>NaN</td>\n",
       "      <td>NaN</td>\n",
       "    </tr>\n",
       "    <tr>\n",
       "      <th>4</th>\n",
       "      <td>4949</td>\n",
       "      <td>2012</td>\n",
       "      <td>NaN</td>\n",
       "      <td>2012-06-08</td>\n",
       "    </tr>\n",
       "  </tbody>\n",
       "</table>\n",
       "</div>"
      ],
      "text/plain": [
       "   tower_id  year  actual_max_canopy max_canopy_date\n",
       "0      5562  2011                NaN      2011-06-22\n",
       "1      4151  2020                NaN             NaN\n",
       "2      3512  2019           0.458826      2019-07-08\n",
       "3      2272  2019                NaN             NaN\n",
       "4      4949  2012                NaN      2012-06-08"
      ]
     },
     "execution_count": 86,
     "metadata": {},
     "output_type": "execute_result"
    }
   ],
   "source": [
    "data.head() # (14837, 4)\n",
    "# data.clean.shape # (4361, 4)"
   ]
  },
  {
   "cell_type": "code",
   "execution_count": 260,
   "metadata": {},
   "outputs": [
    {
     "data": {
      "text/plain": [
       "<matplotlib.axes._subplots.AxesSubplot at 0x1a2f593a20>"
      ]
     },
     "execution_count": 260,
     "metadata": {},
     "output_type": "execute_result"
    },
    {
     "data": {
      "image/png": "[encoded data removed]",
      "text/plain": [
       "<Figure size 432x288 with 1 Axes>"
      ]
     },
     "metadata": {
      "needs_background": "light"
     },
     "output_type": "display_data"
    }
   ],
   "source": [
    "#print(data.clean['max_canopy_date'].head())\n",
    "#data.clean['max_canopy_date'].dtype\n",
    "#data.clean['parsed_dates'] = pd.to_datetime(data.clean['max_canopy_date'], format=\"%Y-%m-%d\")\n",
    "grouped_data = data.clean.groupby(['parsed_dates']).mean()\n",
    "grouped_data.head(20)\n",
    "grouped_data.plot()"
   ]
  },
  {
   "cell_type": "code",
   "execution_count": 122,
   "metadata": {},
   "outputs": [
    {
     "data": {
      "text/plain": [
       "count    4361.000000\n",
       "mean        0.764321\n",
       "std         0.178928\n",
       "min         0.178902\n",
       "25%         0.637727\n",
       "50%         0.749347\n",
       "75%         0.886219\n",
       "max         1.338261\n",
       "Name: actual_max_canopy, dtype: float64"
      ]
     },
     "execution_count": 122,
     "metadata": {},
     "output_type": "execute_result"
    }
   ],
   "source": [
    "# Actual Max Canopy\n",
    "#data.clean.actual_max_canopy.describe()\n",
    "plt.hist(data.clean.actual_max_canopy, bins=30)\n",
    "# plt.hist(data.clean.max_canopy_date)\n",
    "plt.show()"
   ]
  },
  {
   "cell_type": "code",
   "execution_count": 60,
   "metadata": {},
   "outputs": [
    {
     "data": {
      "text/plain": [
       "2018    1081\n",
       "2019    1073\n",
       "2017     988\n",
       "2016     757\n",
       "2015     365\n",
       "2014      97\n",
       "Name: year, dtype: int64"
      ]
     },
     "execution_count": 60,
     "metadata": {},
     "output_type": "execute_result"
    }
   ],
   "source": [
    "# data.year.value_counts() # 2011-2020 \n",
    "data.clean.year.value_counts() # 2014-2019"
   ]
  },
  {
   "cell_type": "code",
   "execution_count": 125,
   "metadata": {},
   "outputs": [
    {
     "data": {
      "text/html": [
       "<div>\n",
       "<style scoped>\n",
       "    .dataframe tbody tr th:only-of-type {\n",
       "        vertical-align: middle;\n",
       "    }\n",
       "\n",
       "    .dataframe tbody tr th {\n",
       "        vertical-align: top;\n",
       "    }\n",
       "\n",
       "    .dataframe thead th {\n",
       "        text-align: right;\n",
       "    }\n",
       "</style>\n",
       "<table border=\"1\" class=\"dataframe\">\n",
       "  <thead>\n",
       "    <tr style=\"text-align: right;\">\n",
       "      <th></th>\n",
       "      <th>tower_id</th>\n",
       "      <th>year</th>\n",
       "      <th>actual_max_canopy</th>\n",
       "    </tr>\n",
       "  </thead>\n",
       "  <tbody>\n",
       "    <tr>\n",
       "      <th>count</th>\n",
       "      <td>4361.000000</td>\n",
       "      <td>4361.000000</td>\n",
       "      <td>4361.000000</td>\n",
       "    </tr>\n",
       "    <tr>\n",
       "      <th>mean</th>\n",
       "      <td>1487.547581</td>\n",
       "      <td>2017.332263</td>\n",
       "      <td>0.764321</td>\n",
       "    </tr>\n",
       "    <tr>\n",
       "      <th>std</th>\n",
       "      <td>1217.248384</td>\n",
       "      <td>1.353008</td>\n",
       "      <td>0.178928</td>\n",
       "    </tr>\n",
       "    <tr>\n",
       "      <th>min</th>\n",
       "      <td>5.000000</td>\n",
       "      <td>2014.000000</td>\n",
       "      <td>0.178902</td>\n",
       "    </tr>\n",
       "    <tr>\n",
       "      <th>25%</th>\n",
       "      <td>387.000000</td>\n",
       "      <td>2016.000000</td>\n",
       "      <td>0.637727</td>\n",
       "    </tr>\n",
       "    <tr>\n",
       "      <th>50%</th>\n",
       "      <td>1144.000000</td>\n",
       "      <td>2017.000000</td>\n",
       "      <td>0.749347</td>\n",
       "    </tr>\n",
       "    <tr>\n",
       "      <th>75%</th>\n",
       "      <td>2281.000000</td>\n",
       "      <td>2018.000000</td>\n",
       "      <td>0.886219</td>\n",
       "    </tr>\n",
       "    <tr>\n",
       "      <th>max</th>\n",
       "      <td>5562.000000</td>\n",
       "      <td>2019.000000</td>\n",
       "      <td>1.338261</td>\n",
       "    </tr>\n",
       "  </tbody>\n",
       "</table>\n",
       "</div>"
      ],
      "text/plain": [
       "          tower_id         year  actual_max_canopy\n",
       "count  4361.000000  4361.000000        4361.000000\n",
       "mean   1487.547581  2017.332263           0.764321\n",
       "std    1217.248384     1.353008           0.178928\n",
       "min       5.000000  2014.000000           0.178902\n",
       "25%     387.000000  2016.000000           0.637727\n",
       "50%    1144.000000  2017.000000           0.749347\n",
       "75%    2281.000000  2018.000000           0.886219\n",
       "max    5562.000000  2019.000000           1.338261"
      ]
     },
     "execution_count": 125,
     "metadata": {},
     "output_type": "execute_result"
    }
   ],
   "source": [
    "data.clean = data.dropna()\n",
    "data.clean.describe()"
   ]
  },
  {
   "cell_type": "code",
   "execution_count": 46,
   "metadata": {},
   "outputs": [],
   "source": [
    "# Filtering by year, however clean data does not have any information for 2011-2013 or 2020\n",
    "\n",
    "#y2011 = data.clean[data.clean.year == 2011]\n",
    "#y2012 = data.clean[data.clean.year == '2012']\n",
    "#y2013 = data.clean[data.clean.year == '2013']\n",
    "y2014 = data.clean[data.clean.year == 2014]\n",
    "y2015 = data.clean[data.clean.year == 2015]\n",
    "y2016 = data.clean[data.clean.year == 2016]\n",
    "y2017 = data.clean[data.clean.year == 2017]\n",
    "y2018 = data.clean[data.clean.year == 2018]\n",
    "y2019 = data.clean[data.clean.year == 2019]\n",
    "#y2020 = data.clean[data.clean.year == '2020']"
   ]
  },
  {
   "cell_type": "code",
   "execution_count": 57,
   "metadata": {},
   "outputs": [
    {
     "data": {
      "text/html": [
       "<div>\n",
       "<style scoped>\n",
       "    .dataframe tbody tr th:only-of-type {\n",
       "        vertical-align: middle;\n",
       "    }\n",
       "\n",
       "    .dataframe tbody tr th {\n",
       "        vertical-align: top;\n",
       "    }\n",
       "\n",
       "    .dataframe thead th {\n",
       "        text-align: right;\n",
       "    }\n",
       "</style>\n",
       "<table border=\"1\" class=\"dataframe\">\n",
       "  <thead>\n",
       "    <tr style=\"text-align: right;\">\n",
       "      <th></th>\n",
       "      <th>tower_id</th>\n",
       "      <th>year</th>\n",
       "      <th>actual_max_canopy</th>\n",
       "    </tr>\n",
       "  </thead>\n",
       "  <tbody>\n",
       "    <tr>\n",
       "      <th>count</th>\n",
       "      <td>1073.000000</td>\n",
       "      <td>1073.0</td>\n",
       "      <td>1073.000000</td>\n",
       "    </tr>\n",
       "    <tr>\n",
       "      <th>mean</th>\n",
       "      <td>2251.271202</td>\n",
       "      <td>2019.0</td>\n",
       "      <td>0.784473</td>\n",
       "    </tr>\n",
       "    <tr>\n",
       "      <th>std</th>\n",
       "      <td>1427.140689</td>\n",
       "      <td>0.0</td>\n",
       "      <td>0.175992</td>\n",
       "    </tr>\n",
       "    <tr>\n",
       "      <th>min</th>\n",
       "      <td>10.000000</td>\n",
       "      <td>2019.0</td>\n",
       "      <td>0.178902</td>\n",
       "    </tr>\n",
       "    <tr>\n",
       "      <th>25%</th>\n",
       "      <td>880.000000</td>\n",
       "      <td>2019.0</td>\n",
       "      <td>0.650000</td>\n",
       "    </tr>\n",
       "    <tr>\n",
       "      <th>50%</th>\n",
       "      <td>2227.000000</td>\n",
       "      <td>2019.0</td>\n",
       "      <td>0.771603</td>\n",
       "    </tr>\n",
       "    <tr>\n",
       "      <th>75%</th>\n",
       "      <td>3488.000000</td>\n",
       "      <td>2019.0</td>\n",
       "      <td>0.913719</td>\n",
       "    </tr>\n",
       "    <tr>\n",
       "      <th>max</th>\n",
       "      <td>5562.000000</td>\n",
       "      <td>2019.0</td>\n",
       "      <td>1.259743</td>\n",
       "    </tr>\n",
       "  </tbody>\n",
       "</table>\n",
       "</div>"
      ],
      "text/plain": [
       "          tower_id    year  actual_max_canopy\n",
       "count  1073.000000  1073.0        1073.000000\n",
       "mean   2251.271202  2019.0           0.784473\n",
       "std    1427.140689     0.0           0.175992\n",
       "min      10.000000  2019.0           0.178902\n",
       "25%     880.000000  2019.0           0.650000\n",
       "50%    2227.000000  2019.0           0.771603\n",
       "75%    3488.000000  2019.0           0.913719\n",
       "max    5562.000000  2019.0           1.259743"
      ]
     },
     "execution_count": 57,
     "metadata": {},
     "output_type": "execute_result"
    }
   ],
   "source": [
    "# y2014.describe() # mean 0.673285, std 0.141053\n",
    "# y2015.describe() # mean 0.724889, std 0.147285\n",
    "# y2016.describe() # mean 0.779453, std 0.182242\n",
    "# y2017.describe() # mean 0.776957, std 0.184020\n",
    "# y2018.describe() # mean 0.743654, std 0.181164\n",
    "# y2019.describe() # mean 0.784473, std 0.175992"
   ]
  },
  {
   "cell_type": "code",
   "execution_count": null,
   "metadata": {},
   "outputs": [],
   "source": []
  }
 ],
 "metadata": {
  "kernelspec": {
   "display_name": "Python 3",
   "language": "python",
   "name": "python3"
  },
  "language_info": {
   "codemirror_mode": {
    "name": "ipython",
    "version": 3
   },
   "file_extension": ".py",
   "mimetype": "text/x-python",
   "name": "python",
   "nbconvert_exporter": "python",
   "pygments_lexer": "ipython3",
   "version": "3.7.3"
  }
 },
 "nbformat": 4,
 "nbformat_minor": 2
}
